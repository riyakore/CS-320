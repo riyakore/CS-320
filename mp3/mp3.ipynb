{
 "cells": [
  {
   "cell_type": "code",
   "execution_count": 1,
   "id": "06333cb6-682c-4caf-b97f-97689b887444",
   "metadata": {},
   "outputs": [],
   "source": [
    "# Group Part - Part 1, 2, 3\n",
    "# Individual Part - Part 4"
   ]
  },
  {
   "cell_type": "code",
   "execution_count": 2,
   "id": "512ee817-9871-454e-8841-b731ff0e1c4d",
   "metadata": {},
   "outputs": [],
   "source": [
    "# import statements\n",
    "import numpy as np\n",
    "import pandas as pd\n",
    "import matplotlib.pyplot as plt\n",
    "import os\n",
    "import loans\n",
    "import json\n",
    "import zipfile\n",
    "from io import TextIOWrapper\n",
    "import csv\n",
    "import search\n",
    "import time"
   ]
  },
  {
   "cell_type": "code",
   "execution_count": 3,
   "id": "2a598fd6-a8f1-409f-bd76-fdae8d3566d7",
   "metadata": {},
   "outputs": [],
   "source": [
    "%reload_ext autoreload"
   ]
  },
  {
   "cell_type": "code",
   "execution_count": 4,
   "id": "fea11ca3-c81b-4bbd-b7ee-5990aff36a2f",
   "metadata": {},
   "outputs": [
    {
     "data": {
      "text/plain": [
       "{'American Indian or Alaska Native', 'Asian', 'Black or African American'}"
      ]
     },
     "execution_count": 4,
     "metadata": {},
     "output_type": "execute_result"
    }
   ],
   "source": [
    "applicant = loans.Applicant(\"20-30\", [\"1\", \"2\", \"3\"])\n",
    "applicant.race"
   ]
  },
  {
   "cell_type": "code",
   "execution_count": 5,
   "id": "930121c1-bd1c-4a6d-a638-1d73bae0ddf8",
   "metadata": {},
   "outputs": [
    {
     "data": {
      "text/plain": [
       "\"Applicant('20-30', ['American Indian or Alaska Native', 'Asian', 'Black or African American'])\""
      ]
     },
     "execution_count": 5,
     "metadata": {},
     "output_type": "execute_result"
    }
   ],
   "source": [
    "repr(applicant)"
   ]
  },
  {
   "cell_type": "code",
   "execution_count": 6,
   "id": "5b2431d4-f4d0-47a4-8cb2-cd128399dc56",
   "metadata": {},
   "outputs": [
    {
     "data": {
      "text/plain": [
       "20"
      ]
     },
     "execution_count": 6,
     "metadata": {},
     "output_type": "execute_result"
    }
   ],
   "source": [
    "applicant.lower_age()"
   ]
  },
  {
   "cell_type": "code",
   "execution_count": 7,
   "id": "6fc5eb1d-6459-4059-b9d2-3497e015265d",
   "metadata": {},
   "outputs": [
    {
     "data": {
      "text/plain": [
       "[Applicant('20-30', ['American Indian or Alaska Native', 'Black or African American']),\n",
       " Applicant('<25', ['White']),\n",
       " Applicant('35-44', ['Chinese']),\n",
       " Applicant('>75', ['Other Pacific Islander', 'Samoan'])]"
      ]
     },
     "execution_count": 7,
     "metadata": {},
     "output_type": "execute_result"
    }
   ],
   "source": [
    "sorted([\n",
    "    loans.Applicant(\">75\", [\"43\", \"44\"]),\n",
    "    loans.Applicant(\"20-30\", [\"1\", \"3\"]),\n",
    "    loans.Applicant(\"35-44\", [\"22\"]),\n",
    "    loans.Applicant(\"<25\", [\"5\"]),\n",
    "])"
   ]
  },
  {
   "cell_type": "code",
   "execution_count": 8,
   "id": "464f80f9-6127-4bdd-b6ba-dd1b3b3a4dfa",
   "metadata": {},
   "outputs": [],
   "source": [
    "values = {'activity_year': '2020', 'lei': '549300FX7K8PTEQUU487', 'derived_msa-md': '31540', 'state_code': 'WI',\n",
    "         'county_code': '55025', 'census_tract': '55025002402', 'conforming_loan_limit': 'C',\n",
    "         'derived_loan_product_type': 'Conventional:First Lien',\n",
    "         'derived_dwelling_category': 'Single Family (1-4 Units):Site-Built',\n",
    "         'derived_ethnicity': 'Not Hispanic or Latino', 'derived_race': 'White', 'derived_sex': 'Male',\n",
    "         'action_taken': '3', 'purchaser_type': '0', 'preapproval': '2', 'loan_type': '1', 'loan_purpose': '4',\n",
    "         'lien_status': '1', 'reverse_mortgage': '2', 'open-end_line_of_credit': '1',\n",
    "         'business_or_commercial_purpose': '2', 'loan_amount': '225000.0', 'loan_to_value_ratio': '78.671',\n",
    "         'interest_rate': '3.000', 'rate_spread': 'NA', 'hoepa_status': '3', 'total_loan_costs': 'NA',\n",
    "         'total_points_and_fees': 'NA', 'origination_charges': 'NA', 'discount_points': 'NA',\n",
    "         'lender_credits': 'NA', 'loan_term': '360', 'prepayment_penalty_term': 'NA', 'intro_rate_period': '1',\n",
    "         'negative_amortization': '2', 'interest_only_payment': '2', 'balloon_payment': '2',\n",
    "         'other_nonamortizing_features': '2', 'property_value': '285000', 'construction_method': '1',\n",
    "         'occupancy_type': '1', 'manufactured_home_secured_property_type': '3',\n",
    "         'manufactured_home_land_property_interest': '5', 'total_units': '1', 'multifamily_affordable_units': 'NA',\n",
    "         'income': '0', 'debt_to_income_ratio': '>60%', 'applicant_credit_score_type': '1',\n",
    "         'co-applicant_credit_score_type': '10', 'applicant_ethnicity-1': '2', 'applicant_ethnicity-2': '',\n",
    "         'applicant_ethnicity-3': '', 'applicant_ethnicity-4': '', 'applicant_ethnicity-5': '',\n",
    "         'co-applicant_ethnicity-1': '5', 'co-applicant_ethnicity-2': '', 'co-applicant_ethnicity-3': '',\n",
    "         'co-applicant_ethnicity-4': '', 'co-applicant_ethnicity-5': '', 'applicant_ethnicity_observed': '2',\n",
    "         'co-applicant_ethnicity_observed': '4', 'applicant_race-1': '5', 'applicant_race-2': '',\n",
    "         'applicant_race-3': '', 'applicant_race-4': '', 'applicant_race-5': '', 'co-applicant_race-1': '8',\n",
    "         'co-applicant_race-2': '', 'co-applicant_race-3': '', 'co-applicant_race-4': '', 'co-applicant_race-5': '',\n",
    "         'applicant_race_observed': '2', 'co-applicant_race_observed': '4', 'applicant_sex': '1',\n",
    "         'co-applicant_sex': '5', 'applicant_sex_observed': '2', 'co-applicant_sex_observed': '4',\n",
    "         'applicant_age': '55-64', 'co-applicant_age': '9999', 'applicant_age_above_62': 'Yes',\n",
    "         'co-applicant_age_above_62': 'NA', 'submission_of_application': '1', 'initially_payable_to_institution': '1',\n",
    "         'aus-1': '6', 'aus-2': '', 'aus-3': '', 'aus-4': '', 'aus-5': '', 'denial_reason-1': '1',\n",
    "         'denial_reason-2': '', 'denial_reason-3': '', 'denial_reason-4': '', 'tract_population': '3572',\n",
    "         'tract_minority_population_percent': '41.1499999999999986', 'ffiec_msa_md_median_family_income': '96600',\n",
    "         'tract_to_msa_income_percentage': '64', 'tract_owner_occupied_units': '812',\n",
    "         'tract_one_to_four_family_homes': '910', 'tract_median_age_of_housing_units': '45'}"
   ]
  },
  {
   "cell_type": "code",
   "execution_count": 9,
   "id": "461e15c0-970d-490e-8cf5-b1304887822e",
   "metadata": {},
   "outputs": [],
   "source": [
    "loan = loans.Loan(values)"
   ]
  },
  {
   "cell_type": "code",
   "execution_count": 10,
   "id": "73019cab-24e6-4b3c-9fdd-dc7d11fd431b",
   "metadata": {},
   "outputs": [
    {
     "data": {
      "text/plain": [
       "3.0"
      ]
     },
     "execution_count": 10,
     "metadata": {},
     "output_type": "execute_result"
    }
   ],
   "source": [
    "loan.interest_rate"
   ]
  },
  {
   "cell_type": "code",
   "execution_count": 11,
   "id": "fad48544-5b8d-4e86-8367-544c608f4298",
   "metadata": {},
   "outputs": [
    {
     "data": {
      "text/plain": [
       "[Applicant('55-64', ['White'])]"
      ]
     },
     "execution_count": 11,
     "metadata": {},
     "output_type": "execute_result"
    }
   ],
   "source": [
    "loan.applicants"
   ]
  },
  {
   "cell_type": "code",
   "execution_count": 12,
   "id": "34a3ba39-fa2a-423e-b06d-963604f98f2c",
   "metadata": {},
   "outputs": [
    {
     "name": "stdout",
     "output_type": "stream",
     "text": [
      "<Loan: 3.0% on $225000.0 with 1 applicant(s)>\n"
     ]
    }
   ],
   "source": [
    "print(loan)"
   ]
  },
  {
   "cell_type": "code",
   "execution_count": 13,
   "id": "540b294e-7ca5-422a-8fd7-2ee9044131f8",
   "metadata": {},
   "outputs": [
    {
     "name": "stdout",
     "output_type": "stream",
     "text": [
      "225000.0\n",
      "151750.0\n",
      "76302.5\n"
     ]
    }
   ],
   "source": [
    "for amt in loan.yearly_amounts(80000):\n",
    "    print(amt)"
   ]
  },
  {
   "cell_type": "code",
   "execution_count": 14,
   "id": "e0771493-3d9f-4195-91b6-ef9a505fc254",
   "metadata": {},
   "outputs": [],
   "source": [
    "lcu = loans.Bank(\"Landmark Credit Union\")"
   ]
  },
  {
   "cell_type": "code",
   "execution_count": 15,
   "id": "7425d536-1255-4022-85ce-580de1e299b0",
   "metadata": {},
   "outputs": [
    {
     "name": "stdout",
     "output_type": "stream",
     "text": [
      "17632\n",
      "<Loan: 2.875% on $305000.0 with 1 applicant(s)>\n",
      "<Loan: 3.0% on $365000.0 with 2 applicant(s)>\n"
     ]
    }
   ],
   "source": [
    "print(len(lcu))\n",
    "print(lcu[-1])\n",
    "print(lcu[0])"
   ]
  },
  {
   "cell_type": "code",
   "execution_count": 16,
   "id": "3e0e28f9-cecb-44be-bcde-5f36f809297e",
   "metadata": {},
   "outputs": [],
   "source": [
    "with open('banks.json', 'r') as f:\n",
    "    bank_data = json.load(f)"
   ]
  },
  {
   "cell_type": "code",
   "execution_count": 17,
   "id": "cd74f2bb-7fa4-425d-be65-502d897599cf",
   "metadata": {},
   "outputs": [
    {
     "name": "stdout",
     "output_type": "stream",
     "text": [
      "A : [9, 5]\n",
      "B : [22]\n",
      "C : [33]\n"
     ]
    }
   ],
   "source": [
    "tree = search.BST()\n",
    "tree.add(\"A\", 9)\n",
    "tree.add(\"A\", 5)\n",
    "tree.add(\"B\", 22)\n",
    "tree.add(\"C\", 33)\n",
    "tree.dump()"
   ]
  },
  {
   "cell_type": "code",
   "execution_count": 18,
   "id": "742409c4-8ba5-412e-bc19-45ebec5f9133",
   "metadata": {},
   "outputs": [],
   "source": [
    "t = search.BST()\n",
    "t.add(\"B\", 3)\n",
    "assert len(t.root) == 1\n",
    "t.add(\"A\", 2)\n",
    "assert len(t.root) == 2\n",
    "t.add(\"C\", 1)\n",
    "assert len(t.root) == 3\n",
    "t.add(\"C\", 4)\n",
    "assert len(t.root) == 4"
   ]
  },
  {
   "cell_type": "code",
   "execution_count": 19,
   "id": "d74f92ef-1f63-4aa8-b22d-d2d827337c6b",
   "metadata": {},
   "outputs": [
    {
     "data": {
      "text/plain": [
       "[2]"
      ]
     },
     "execution_count": 19,
     "metadata": {},
     "output_type": "execute_result"
    }
   ],
   "source": [
    "t.root.lookup(\"A\")"
   ]
  },
  {
   "cell_type": "code",
   "execution_count": 20,
   "id": "ef7c51e5-daf4-4629-8ee7-8cf83d7dfebe",
   "metadata": {},
   "outputs": [
    {
     "data": {
      "text/plain": [
       "[1, 4]"
      ]
     },
     "execution_count": 20,
     "metadata": {},
     "output_type": "execute_result"
    }
   ],
   "source": [
    "t.root.lookup(\"C\")"
   ]
  },
  {
   "cell_type": "code",
   "execution_count": 21,
   "id": "968f279d-c89d-4ef2-b26b-48a6e8e1f2d6",
   "metadata": {},
   "outputs": [
    {
     "data": {
      "text/plain": [
       "[]"
      ]
     },
     "execution_count": 21,
     "metadata": {},
     "output_type": "execute_result"
    }
   ],
   "source": [
    "t.root.lookup(\"Z\")"
   ]
  },
  {
   "cell_type": "code",
   "execution_count": 22,
   "id": "77379dd5-19c3-4b6a-96c2-146866ff7085",
   "metadata": {},
   "outputs": [
    {
     "name": "stdout",
     "output_type": "stream",
     "text": [
      "A : [9, 5]\n",
      "B : [22]\n",
      "C : [33]\n",
      "[9, 5]\n",
      "[22]\n",
      "[33]\n",
      "[]\n"
     ]
    }
   ],
   "source": [
    "tree = search.BST()\n",
    "\n",
    "tree.add(\"A\", 9)\n",
    "tree.add(\"A\", 5)\n",
    "tree.add(\"B\", 22)\n",
    "tree.add(\"C\", 33)\n",
    "\n",
    "tree.dump()\n",
    "\n",
    "print(tree[\"A\"]) \n",
    "print(tree[\"B\"])\n",
    "print(tree[\"C\"])\n",
    "print(tree[\"Z\"])"
   ]
  },
  {
   "cell_type": "code",
   "execution_count": 23,
   "id": "756e1089-87b7-49f2-8e2b-5a69924c6ff4",
   "metadata": {},
   "outputs": [],
   "source": [
    "mbi = loans.Bank(\"Merchants Bank of Indiana\")"
   ]
  },
  {
   "cell_type": "code",
   "execution_count": 24,
   "id": "3f5b26f8-6a68-4c45-83ad-b32e42632460",
   "metadata": {},
   "outputs": [
    {
     "data": {
      "text/plain": [
       "3.2181818181818183"
      ]
     },
     "execution_count": 24,
     "metadata": {},
     "output_type": "execute_result"
    }
   ],
   "source": [
    "#Q1\n",
    "def average_interest_rate(bank):\n",
    "    total_interest = 0\n",
    "    count = 0\n",
    "    for loan in bank.loan_list:\n",
    "        if loan.interest_rate != -1:\n",
    "            total_interest += loan.interest_rate\n",
    "            count += 1\n",
    "    return total_interest / count\n",
    "\n",
    "avg_rate = average_interest_rate(mbi)\n",
    "avg_rate"
   ]
  },
  {
   "cell_type": "code",
   "execution_count": 25,
   "id": "4f9a7073-e2c2-442e-9c61-9e8302b645f5",
   "metadata": {},
   "outputs": [
    {
     "data": {
      "text/plain": [
       "1.6724137931034482"
      ]
     },
     "execution_count": 25,
     "metadata": {},
     "output_type": "execute_result"
    }
   ],
   "source": [
    "#Q2\n",
    "def average_applicants_per_loan(bank):\n",
    "    total_applicants = 0\n",
    "    for loan in bank.loan_list:\n",
    "        total_applicants += len(loan.applicants)\n",
    "    return total_applicants / len(bank.loan_list)\n",
    "\n",
    "avg_applicants = average_applicants_per_loan(mbi)\n",
    "avg_applicants"
   ]
  },
  {
   "cell_type": "code",
   "execution_count": 26,
   "id": "41a8d6b2-ea9b-4c7a-8ef3-ff57596dddd0",
   "metadata": {},
   "outputs": [
    {
     "data": {
      "text/plain": [
       "{'65-74': 6, '<25': 2, '35-44': 43, '25-34': 28, '45-54': 16, '55-64': 2}"
      ]
     },
     "execution_count": 26,
     "metadata": {},
     "output_type": "execute_result"
    }
   ],
   "source": [
    "#Q3\n",
    "from collections import defaultdict\n",
    "\n",
    "def age_distribution(bank):\n",
    "    age_dist = defaultdict(int)\n",
    "    for loan in bank.loan_list:\n",
    "        for applicant in loan.applicants:\n",
    "            age_dist[applicant.age] += 1\n",
    "    return dict(age_dist)\n",
    "\n",
    "age_dist = age_distribution(mbi)\n",
    "age_dist"
   ]
  },
  {
   "cell_type": "code",
   "execution_count": 27,
   "id": "87722c10-19e5-4540-a2da-8ac51ff15eaf",
   "metadata": {},
   "outputs": [
    {
     "data": {
      "text/plain": [
       "3"
      ]
     },
     "execution_count": 27,
     "metadata": {},
     "output_type": "execute_result"
    }
   ],
   "source": [
    "#Q4\n",
    "def build_bst(bank):\n",
    "    bst = search.BST()\n",
    "    missing_interest_count = 0\n",
    "    for loan in bank.loan_list:\n",
    "        if loan.interest_rate == -1:\n",
    "            missing_interest_count += 1\n",
    "        else:\n",
    "            bst.add(loan.interest_rate, loan)\n",
    "    return bst, missing_interest_count\n",
    "\n",
    "mbi_tree, missing_rate_count = build_bst(mbi)\n",
    "missing_rate_count"
   ]
  },
  {
   "cell_type": "code",
   "execution_count": 28,
   "id": "7ed19b45-9e72-4c02-9e16-e56f0c849098",
   "metadata": {},
   "outputs": [
    {
     "data": {
      "text/plain": [
       "8"
      ]
     },
     "execution_count": 28,
     "metadata": {},
     "output_type": "execute_result"
    }
   ],
   "source": [
    "#Q5\n",
    "def tree_height(node):\n",
    "    if node is None:\n",
    "        return 0 \n",
    "    else:\n",
    "        left_height = tree_height(node.left)\n",
    "        right_height = tree_height(node.right)\n",
    "        return 1 + max(left_height, right_height)\n",
    "\n",
    "height = tree_height(mbi_tree.root)\n",
    "height"
   ]
  },
  {
   "cell_type": "code",
   "execution_count": 29,
   "id": "b0b428a6-9c81-48f6-8850-11a350c8aaf9",
   "metadata": {},
   "outputs": [],
   "source": [
    "lcu_tree = search.BST()"
   ]
  },
  {
   "cell_type": "code",
   "execution_count": 30,
   "id": "b0a00473-d4e4-49c4-811e-c632858d3e7a",
   "metadata": {},
   "outputs": [
    {
     "data": {
      "image/png": "[encoded data removed]",
      "text/plain": [
       "<Figure size 640x480 with 1 Axes>"
      ]
     },
     "metadata": {},
     "output_type": "display_data"
    }
   ],
   "source": [
    "#Q6\n",
    "def add_loans_with_timing(bank, bst, max_loans=15000):\n",
    "    times = []\n",
    "    start_time = time.time()\n",
    "    \n",
    "    for i, loan in enumerate(bank.loan_list):\n",
    "        if loan.interest_rate == -1:\n",
    "            continue\n",
    "        bst.add(loan.interest_rate, loan)\n",
    "        end_ime = time.time() - start_time\n",
    "        times.append(end_ime * 1000)\n",
    "    \n",
    "    return times\n",
    "\n",
    "times = add_loans_with_timing(lcu, lcu_tree, 15000)\n",
    "\n",
    "plt.plot(range(1, len(times) + 1), times)\n",
    "plt.xlabel('BST Adds')\n",
    "plt.ylabel('Time Elapsed (ms)')\n",
    "plt.title('Time Elapsed for First 15,000 Entries into BST')\n",
    "plt.show()"
   ]
  },
  {
   "cell_type": "code",
   "execution_count": 31,
   "id": "97ab103e-3dae-4696-985c-4ebf8d24eb58",
   "metadata": {},
   "outputs": [
    {
     "data": {
      "image/png": "[encoded data removed]",
      "text/plain": [
       "<Figure size 640x480 with 1 Axes>"
      ]
     },
     "metadata": {},
     "output_type": "display_data"
    }
   ],
   "source": [
    "#Q7\n",
    "def count_loans_by_rate_loop(bank, rate):\n",
    "    start_time = time.time()\n",
    "    count = sum(1 for loan in bank.loan_list if loan.interest_rate == rate)\n",
    "    elapsed_time = time.time() - start_time\n",
    "    return count, float(elapsed_time*1000)\n",
    "\n",
    "def count_loans_by_rate_bst(bst, rate):\n",
    "    start_time = time.time()\n",
    "    loans = bst[rate]\n",
    "    count = len(loans)\n",
    "    elapsed_time = time.time() - start_time\n",
    "    return count, float(elapsed_time*1000)\n",
    "\n",
    "count_loop, time_loop = count_loans_by_rate_loop(lcu, 1.99)\n",
    "count_bst, time_bst = count_loans_by_rate_bst(lcu_tree, 1.99)\n",
    "\n",
    "plt.bar(['Looping over loans', 'BST lookup'], [time_loop, time_bst])\n",
    "plt.ylabel('Time (seconds)')\n",
    "plt.title('Comparison of Lookup Methods for Interest Rate 1.99')\n",
    "plt.show()"
   ]
  },
  {
   "cell_type": "code",
   "execution_count": 32,
   "id": "3f02e350-4392-4448-8e90-eeb42189cd0a",
   "metadata": {},
   "outputs": [
    {
     "data": {
      "image/png": "[encoded data removed]",
      "text/plain": [
       "<Figure size 640x480 with 1 Axes>"
      ]
     },
     "metadata": {},
     "output_type": "display_data"
    }
   ],
   "source": [
    "#Q8\n",
    "def racial_identity_distribution(bank):\n",
    "    race_count_dist = defaultdict(int)\n",
    "    for loan in bank.loan_list:\n",
    "        for applicant in loan.applicants:\n",
    "            race_count_dist[len(applicant.race)] += 1\n",
    "    return dict(race_count_dist)\n",
    "\n",
    "race_dist = racial_identity_distribution(lcu)\n",
    "\n",
    "plt.bar(race_dist.keys(), race_dist.values())\n",
    "plt.xlabel('Number of Racial Identities')\n",
    "plt.ylabel('Number of Applicants')\n",
    "plt.title('Distribution of Racial Identities')\n",
    "plt.show()"
   ]
  },
  {
   "cell_type": "code",
   "execution_count": 33,
   "id": "2bb37aaf-ddd1-4609-a7fb-d3fdaed8ea1d",
   "metadata": {},
   "outputs": [
    {
     "data": {
      "text/plain": [
       "63"
      ]
     },
     "execution_count": 33,
     "metadata": {},
     "output_type": "execute_result"
    }
   ],
   "source": [
    "#Q9\n",
    "def count_leaf_nodes(node):\n",
    "    if node is None:\n",
    "        return 0\n",
    "\n",
    "    if node.left is None and node.right is None:\n",
    "        return 1\n",
    "\n",
    "    num_left = count_leaf_nodes(node.left)\n",
    "    num_right = count_leaf_nodes(node.right)\n",
    "\n",
    "    return num_left + num_right\n",
    "\n",
    "leaf_count = count_leaf_nodes(lcu_tree.root)\n",
    "leaf_count"
   ]
  },
  {
   "cell_type": "code",
   "execution_count": 34,
   "id": "adbdc1fe-ff9c-47e6-a9db-6e6b05950e54",
   "metadata": {},
   "outputs": [
    {
     "data": {
      "text/plain": [
       "9.85"
      ]
     },
     "execution_count": 34,
     "metadata": {},
     "output_type": "execute_result"
    }
   ],
   "source": [
    "#Q10\n",
    "def find_top_n_keys(node, n, keys=[]):\n",
    "    if node is None or len(keys) >= n:\n",
    "        return keys\n",
    "\n",
    "    find_top_n_keys(node.right, n, keys)\n",
    "\n",
    "    if len(keys) < n:\n",
    "        keys.append(node.key)\n",
    "\n",
    "    find_top_n_keys(node.left, n, keys)\n",
    "    \n",
    "    return keys\n",
    "\n",
    "top_3_rates = find_top_n_keys(lcu_tree.root, 3)\n",
    "top_3_rates[-1]"
   ]
  },
  {
   "cell_type": "code",
   "execution_count": null,
   "id": "cf33b82b-3615-4c75-ba33-ea1f5427df06",
   "metadata": {},
   "outputs": [],
   "source": []
  }
 ],
 "metadata": {
  "kernelspec": {
   "display_name": "Python 3 (ipykernel)",
   "language": "python",
   "name": "python3"
  },
  "language_info": {
   "codemirror_mode": {
    "name": "ipython",
    "version": 3
   },
   "file_extension": ".py",
   "mimetype": "text/x-python",
   "name": "python",
   "nbconvert_exporter": "python",
   "pygments_lexer": "ipython3",
   "version": "3.10.12"
  }
 },
 "nbformat": 4,
 "nbformat_minor": 5
}
