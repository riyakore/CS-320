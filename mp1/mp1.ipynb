{
 "cells": [
  {
   "cell_type": "code",
   "execution_count": 1,
   "id": "6c772966-ce11-482e-841e-a2f850b6e2ea",
   "metadata": {},
   "outputs": [],
   "source": [
    "# import statements in the top cell\n",
    "import numpy as np\n",
    "import pandas as pd\n",
    "import matplotlib.pyplot as plt\n",
    "import json\n",
    "import copy\n",
    "import os"
   ]
  },
  {
   "cell_type": "code",
   "execution_count": 2,
   "id": "e39cb42b-4294-439b-ab6d-61cc05d2eaae",
   "metadata": {},
   "outputs": [
    {
     "data": {
      "text/plain": [
       "float"
      ]
     },
     "execution_count": 2,
     "metadata": {},
     "output_type": "execute_result"
    }
   ],
   "source": [
    "#Q1\n",
    "answer = 11/7\n",
    "type(answer)"
   ]
  },
  {
   "cell_type": "code",
   "execution_count": 3,
   "id": "b35b5fc1-0147-476e-93be-57aded9c336f",
   "metadata": {},
   "outputs": [
    {
     "data": {
      "text/plain": [
       "True"
      ]
     },
     "execution_count": 3,
     "metadata": {},
     "output_type": "execute_result"
    }
   ],
   "source": [
    "#Q2\n",
    "fruit_list = [\"apple\", \"pear\", \"banana\", \"watermelon\"]\n",
    "fruit_list_length = len(fruit_list) # Don't hardcode this. Use a Python built-in\n",
    "\n",
    "minimum = 2\n",
    "maximum = 5\n",
    "in_range =  bool(minimum <= fruit_list_length <= maximum)# True if the number of fruits in fruit_list is inside the minimum-to-maximum range\n",
    "in_range\n"
   ]
  },
  {
   "cell_type": "code",
   "execution_count": 4,
   "id": "e90316e7-cd35-4b5b-aef0-c79744471447",
   "metadata": {},
   "outputs": [
    {
     "data": {
      "text/plain": [
       "2"
      ]
     },
     "execution_count": 4,
     "metadata": {},
     "output_type": "execute_result"
    }
   ],
   "source": [
    "#Q3\n",
    "filepaths = \"TESTING_FILE1.C5V-TESTING_FILE2.CSV-TESTING_FILE3.CSV\"\n",
    "file_list = filepaths.split(\"-\")\n",
    "csv_count = 0\n",
    "for file in file_list:\n",
    "    if file.lower().endswith('.csv'):\n",
    "        csv_count += 1\n",
    "csv_count\n"
   ]
  },
  {
   "cell_type": "code",
   "execution_count": 5,
   "id": "db1d58b4-3f9c-42ed-aa76-b58d602e8ac6",
   "metadata": {},
   "outputs": [],
   "source": [
    "def multiply(a, b = 2):\n",
    "    answer = a * b\n",
    "    return answer"
   ]
  },
  {
   "cell_type": "code",
   "execution_count": 6,
   "id": "f2153ff3-f239-44fc-a9f5-352a53a08a16",
   "metadata": {},
   "outputs": [
    {
     "data": {
      "text/plain": [
       "10"
      ]
     },
     "execution_count": 6,
     "metadata": {},
     "output_type": "execute_result"
    }
   ],
   "source": [
    "#Q4\n",
    "answer = multiply(5)\n",
    "answer"
   ]
  },
  {
   "cell_type": "code",
   "execution_count": 7,
   "id": "a758b802-bcbc-4f82-ab5d-562253a225c3",
   "metadata": {},
   "outputs": [],
   "source": [
    "def smart_multiply(list_of_numbers):\n",
    "    product = 1\n",
    "    for number in list_of_numbers:\n",
    "        if number <= 0:\n",
    "            continue\n",
    "        product *= number\n",
    "        if product > 100:\n",
    "            break\n",
    "    return product"
   ]
  },
  {
   "cell_type": "code",
   "execution_count": 8,
   "id": "c00935fe-39ae-4f4a-be6d-b7c9c71587a6",
   "metadata": {},
   "outputs": [
    {
     "data": {
      "text/plain": [
       "200"
      ]
     },
     "execution_count": 8,
     "metadata": {},
     "output_type": "execute_result"
    }
   ],
   "source": [
    "#Q5\n",
    "answer = smart_multiply([4, -2, 0, 5, 5, 2, 7, -2])\n",
    "answer"
   ]
  },
  {
   "cell_type": "code",
   "execution_count": 9,
   "id": "b056e3d4-5409-4ebf-97eb-d23112285fff",
   "metadata": {},
   "outputs": [],
   "source": [
    "header = [\"A\", \"B\", \"C\"]\n",
    "\n",
    "coord1 = {\"x\": 8, \"y\": 5}\n",
    "coord2 = {\"x\": 9, \"y\": 2, \"z\" : 4}\n",
    "coord3 = {\"x\": 3, \"y\": 1, \"z\" : 7}\n",
    "\n",
    "rows = [\n",
    "    [1, 6, 7, 8, coord1],\n",
    "    [3, 4, 9, coord2],\n",
    "    [5, 2, coord3],\n",
    "]"
   ]
  },
  {
   "cell_type": "code",
   "execution_count": 10,
   "id": "7c42a1c1-9f51-4af8-a879-956a41834737",
   "metadata": {},
   "outputs": [
    {
     "data": {
      "text/plain": [
       "True"
      ]
     },
     "execution_count": 10,
     "metadata": {},
     "output_type": "execute_result"
    }
   ],
   "source": [
    "{\"A\":1, \"B\":2} == {\"B\":2, \"A\":1}"
   ]
  },
  {
   "cell_type": "code",
   "execution_count": 11,
   "id": "5f52470a-5e0f-4bf4-910b-163096ee05a2",
   "metadata": {},
   "outputs": [
    {
     "data": {
      "text/plain": [
       "[[1, 6, 7, 8, {'x': 8, 'y': 5, 'z': 6}],\n",
       " [3, 4, 9, {'x': 9, 'y': 2, 'z': 4}],\n",
       " [5, 2, {'x': 3, 'y': 1, 'z': 7}]]"
      ]
     },
     "execution_count": 11,
     "metadata": {},
     "output_type": "execute_result"
    }
   ],
   "source": [
    "#Q6\n",
    "coord1[\"z\"] = 6\n",
    "rows"
   ]
  },
  {
   "cell_type": "code",
   "execution_count": 12,
   "id": "d8565290-36da-4925-950a-7fa8094599b3",
   "metadata": {},
   "outputs": [
    {
     "data": {
      "text/plain": [
       "1"
      ]
     },
     "execution_count": 12,
     "metadata": {},
     "output_type": "execute_result"
    }
   ],
   "source": [
    "#Q7\n",
    "rows[2][2][\"y\"]"
   ]
  },
  {
   "cell_type": "code",
   "execution_count": 13,
   "id": "cb93570d-dd39-4ec6-a024-f90554f7dea0",
   "metadata": {},
   "outputs": [
    {
     "data": {
      "text/plain": [
       "[[1, 6, 7, 8, {'x': 8, 'y': 5, 'z': 6}],\n",
       " [3, 404, 9, {'x': 9, 'y': 2, 'z': 4}],\n",
       " [5, 2, {'x': 3, 'y': 1, 'z': 7}]]"
      ]
     },
     "execution_count": 13,
     "metadata": {},
     "output_type": "execute_result"
    }
   ],
   "source": [
    "#Q8\n",
    "v2 = copy.copy(rows)\n",
    "v2[0] = 404    # first change\n",
    "v2[1][1] = 404 # second change\n",
    "rows"
   ]
  },
  {
   "cell_type": "code",
   "execution_count": 14,
   "id": "1ee701bd-53dd-4b83-98da-a50a849ff7a0",
   "metadata": {},
   "outputs": [
    {
     "data": {
      "text/plain": [
       "9"
      ]
     },
     "execution_count": 14,
     "metadata": {},
     "output_type": "execute_result"
    }
   ],
   "source": [
    "#Q9\n",
    "header = [\"A\", \"B\", \"C\", \"D\"]\n",
    "\n",
    "a_index = header.index(\"A\")\n",
    "\n",
    "sum_a_column = 0\n",
    "for row in rows:\n",
    "    sum_a_column += row[a_index]\n",
    "    \n",
    "sum_a_column"
   ]
  },
  {
   "cell_type": "code",
   "execution_count": 15,
   "id": "992b3514-77f5-44c3-a7b1-9f4b63bef311",
   "metadata": {},
   "outputs": [
    {
     "data": {
      "text/plain": [
       "[[3, 404, 9, {'x': 9, 'y': 2, 'z': 4}],\n",
       " [1, 6, 7, 8, {'x': 8, 'y': 5, 'z': 6}],\n",
       " [5, 2, {'x': 3, 'y': 1, 'z': 7}]]"
      ]
     },
     "execution_count": 15,
     "metadata": {},
     "output_type": "execute_result"
    }
   ],
   "source": [
    "#Q10\n",
    "rows.sort(key=lambda row: row[header.index(\"B\")], reverse=True)\n",
    "rows"
   ]
  },
  {
   "cell_type": "code",
   "execution_count": 16,
   "id": "02581479-19be-42bf-80b2-82d65b73111c",
   "metadata": {},
   "outputs": [
    {
     "name": "stdout",
     "output_type": "stream",
     "text": [
      "<class 'dict'>\n",
      "{'aud': {'code': 'AUD', 'alphaCode': 'AUD', 'numericCode': '036', 'name': 'Australian Dollar', 'rate': 1.4903507859595, 'date': 'Fri, 13 Sep 2024 23:55:15 GMT', 'inverseRate': 0.67098297221093}, 'cad': {'code': 'CAD', 'alphaCode': 'CAD', 'numericCode': '124', 'name': 'Canadian Dollar', 'rate': 1.3585999855413, 'date': 'Fri, 13 Sep 2024 23:55:15 GMT', 'inverseRate': 0.73605182588134}, 'cny': {'code': 'CNY', 'alphaCode': 'CNY', 'numericCode': '156', 'name': 'Chinese Yuan', 'rate': 7.0974436199458, 'date': 'Fri, 13 Sep 2024 23:55:15 GMT', 'inverseRate': 0.14089580045268}, 'eur': {'code': 'EUR', 'alphaCode': 'EUR', 'numericCode': '978', 'name': 'Euro', 'rate': 0.90208090625425, 'date': 'Fri, 13 Sep 2024 23:55:15 GMT', 'inverseRate': 1.1085480172198}, 'gbp': {'code': 'GBP', 'alphaCode': 'GBP', 'numericCode': '826', 'name': 'U.K. Pound Sterling', 'rate': 0.76136653434058, 'date': 'Fri, 13 Sep 2024 23:55:15 GMT', 'inverseRate': 1.313427836523}, 'hkd': {'code': 'HKD', 'alphaCode': 'HKD', 'numericCode': '344', 'name': 'Hong Kong Dollar', 'rate': 7.7984924775517, 'date': 'Fri, 13 Sep 2024 23:55:15 GMT', 'inverseRate': 0.12822991147052}, 'idr': {'code': 'IDR', 'alphaCode': 'IDR', 'numericCode': '360', 'name': 'Indonesian Rupiah', 'rate': 15418.261988394, 'date': 'Fri, 13 Sep 2024 23:55:15 GMT', 'inverseRate': 6.4858153321868e-05}, 'inr': {'code': 'INR', 'alphaCode': 'INR', 'numericCode': '356', 'name': 'Indian Rupee', 'rate': 83.920659596413, 'date': 'Fri, 13 Sep 2024 23:55:15 GMT', 'inverseRate': 0.011916016923713}, 'jpy': {'code': 'JPY', 'alphaCode': 'JPY', 'numericCode': '392', 'name': 'Japanese Yen', 'rate': 140.81886096846, 'date': 'Fri, 13 Sep 2024 23:55:15 GMT', 'inverseRate': 0.0071013214644876}, 'krw': {'code': 'KRW', 'alphaCode': 'KRW', 'numericCode': '410', 'name': 'South Korean Won', 'rate': 1329.4242398662, 'date': 'Fri, 13 Sep 2024 23:55:15 GMT', 'inverseRate': 0.00075220533070815}, 'myr': {'code': 'MYR', 'alphaCode': 'MYR', 'numericCode': '458', 'name': 'Malaysian Ringgit', 'rate': 4.3074577267878, 'date': 'Fri, 13 Sep 2024 23:55:15 GMT', 'inverseRate': 0.23215549946807}, 'nzd': {'code': 'NZD', 'alphaCode': 'NZD', 'numericCode': '554', 'name': 'New Zealand Dollar', 'rate': 1.6206549011078, 'date': 'Fri, 13 Sep 2024 23:55:15 GMT', 'inverseRate': 0.61703450828208}, 'php': {'code': 'PHP', 'alphaCode': 'PHP', 'numericCode': '608', 'name': 'Philippine Peso', 'rate': 55.999394723344, 'date': 'Fri, 13 Sep 2024 23:55:15 GMT', 'inverseRate': 0.017857335868367}, 'sgd': {'code': 'SGD', 'alphaCode': 'SGD', 'numericCode': '702', 'name': 'Singapore Dollar', 'rate': 1.2990912063885, 'date': 'Fri, 13 Sep 2024 23:55:15 GMT', 'inverseRate': 0.76976889311722}, 'thb': {'code': 'THB', 'alphaCode': 'THB', 'numericCode': '764', 'name': 'Thai Baht', 'rate': 33.351903767791, 'date': 'Fri, 13 Sep 2024 23:55:15 GMT', 'inverseRate': 0.029983295915052}, 'twd': {'code': 'TWD', 'alphaCode': 'TWD', 'numericCode': '901', 'name': 'New Taiwan Dollar ', 'rate': 31.979430245741, 'date': 'Fri, 13 Sep 2024 23:55:15 GMT', 'inverseRate': 0.031270100571387}, 'vnd': {'code': 'VND', 'alphaCode': 'VND', 'numericCode': '704', 'name': 'Vietnamese Dong', 'rate': 24549.334366878, 'date': 'Fri, 13 Sep 2024 23:55:15 GMT', 'inverseRate': 4.0734302000024e-05}, 'chf': {'code': 'CHF', 'alphaCode': 'CHF', 'numericCode': '756', 'name': 'Swiss Franc', 'rate': 0.84763398318632, 'date': 'Fri, 13 Sep 2024 23:55:15 GMT', 'inverseRate': 1.1797544929014}, 'dkk': {'code': 'DKK', 'alphaCode': 'DKK', 'numericCode': '208', 'name': 'Danish Krone', 'rate': 6.734285611514, 'date': 'Fri, 13 Sep 2024 23:55:15 GMT', 'inverseRate': 0.14849385037817}, 'egp': {'code': 'EGP', 'alphaCode': 'EGP', 'numericCode': '818', 'name': 'Egyptian Pound', 'rate': 48.394255874672, 'date': 'Fri, 13 Sep 2024 23:55:15 GMT', 'inverseRate': 0.020663609387646}, 'ils': {'code': 'ILS', 'alphaCode': 'ILS', 'numericCode': '376', 'name': 'Israeli New Sheqel', 'rate': 3.7092796565849, 'date': 'Fri, 13 Sep 2024 23:55:15 GMT', 'inverseRate': 0.26959412408411}, 'jod': {'code': 'JOD', 'alphaCode': 'JOD', 'numericCode': '400', 'name': 'Jordanian Dinar', 'rate': 0.70895807833537, 'date': 'Fri, 13 Sep 2024 23:55:15 GMT', 'inverseRate': 1.4105206366334}, 'lbp': {'code': 'LBP', 'alphaCode': 'LBP', 'numericCode': '422', 'name': 'Lebanese Pound', 'rate': 92674.999999999, 'date': 'Fri, 13 Sep 2024 23:55:15 GMT', 'inverseRate': 1.0790396547073e-05}, 'nok': {'code': 'NOK', 'alphaCode': 'NOK', 'numericCode': '578', 'name': 'Norwegian Krone', 'rate': 10.676077103267, 'date': 'Fri, 13 Sep 2024 23:55:15 GMT', 'inverseRate': 0.093667363988404}, 'sek': {'code': 'SEK', 'alphaCode': 'SEK', 'numericCode': '752', 'name': 'Swedish Krona', 'rate': 10.239970099145, 'date': 'Fri, 13 Sep 2024 23:55:15 GMT', 'inverseRate': 0.09765653515761}, 'zar': {'code': 'ZAR', 'alphaCode': 'ZAR', 'numericCode': '710', 'name': 'South African Rand', 'rate': 17.765573087382, 'date': 'Fri, 13 Sep 2024 23:55:15 GMT', 'inverseRate': 0.056288642932112}, 'bgn': {'code': 'BGN', 'alphaCode': 'BGN', 'numericCode': '975', 'name': 'Bulgarian Lev', 'rate': 1.764923044914, 'date': 'Fri, 13 Sep 2024 23:55:15 GMT', 'inverseRate': 0.56659694193565}, 'brl': {'code': 'BRL', 'alphaCode': 'BRL', 'numericCode': '986', 'name': 'Brazilian Real', 'rate': 5.5901776269246, 'date': 'Fri, 13 Sep 2024 23:55:15 GMT', 'inverseRate': 0.17888519233872}, 'clp': {'code': 'CLP', 'alphaCode': 'CLP', 'numericCode': '152', 'name': 'Chilean Peso', 'rate': 930.20250830096, 'date': 'Fri, 13 Sep 2024 23:55:15 GMT', 'inverseRate': 0.0010750347274665}, 'czk': {'code': 'CZK', 'alphaCode': 'CZK', 'numericCode': '203', 'name': 'Czech Koruna', 'rate': 22.692234792303, 'date': 'Fri, 13 Sep 2024 23:55:15 GMT', 'inverseRate': 0.044067938180297}, 'huf': {'code': 'HUF', 'alphaCode': 'HUF', 'numericCode': '348', 'name': 'Hungarian Forint', 'rate': 356.74419277073, 'date': 'Fri, 13 Sep 2024 23:55:15 GMT', 'inverseRate': 0.0028031290214797}, 'isk': {'code': 'ISK', 'alphaCode': 'ISK', 'numericCode': '352', 'name': 'Icelandic Krona', 'rate': 137.43647098635, 'date': 'Fri, 13 Sep 2024 23:55:15 GMT', 'inverseRate': 0.0072760890382532}, 'mxn': {'code': 'MXN', 'alphaCode': 'MXN', 'numericCode': '484', 'name': 'Mexican Peso', 'rate': 19.383372378865, 'date': 'Fri, 13 Sep 2024 23:55:15 GMT', 'inverseRate': 0.051590609748093}, 'pln': {'code': 'PLN', 'alphaCode': 'PLN', 'numericCode': '985', 'name': 'Polish Zloty', 'rate': 3.8710827363729, 'date': 'Fri, 13 Sep 2024 23:55:15 GMT', 'inverseRate': 0.25832565927975}, 'ron': {'code': 'RON', 'alphaCode': 'RON', 'numericCode': '946', 'name': 'Romanian New Leu', 'rate': 4.4883959925354, 'date': 'Fri, 13 Sep 2024 23:55:15 GMT', 'inverseRate': 0.22279674112157}, 'try': {'code': 'TRY', 'alphaCode': 'TRY', 'numericCode': '949', 'name': 'Turkish Lira', 'rate': 33.954368349315, 'date': 'Fri, 13 Sep 2024 23:55:15 GMT', 'inverseRate': 0.029451291501354}, 'uah': {'code': 'UAH', 'alphaCode': 'UAH', 'numericCode': '980', 'name': 'Ukrainian Hryvnia', 'rate': 41.302350427351, 'date': 'Fri, 13 Sep 2024 23:55:15 GMT', 'inverseRate': 0.024211697146848}, 'xaf': {'code': 'XAF', 'alphaCode': 'XAF', 'numericCode': '950', 'name': 'Central African CFA Franc', 'rate': 591.96552657702, 'date': 'Fri, 13 Sep 2024 23:55:15 GMT', 'inverseRate': 0.0016892875600077}, 'xof': {'code': 'XOF', 'alphaCode': 'XOF', 'numericCode': '952', 'name': 'West African CFA Franc', 'rate': 591.96552657702, 'date': 'Fri, 13 Sep 2024 23:55:15 GMT', 'inverseRate': 0.0016892875600077}, 'bdt': {'code': 'BDT', 'alphaCode': 'BDT', 'numericCode': '050', 'name': 'Bangladeshi taka', 'rate': 119.48044692738, 'date': 'Fri, 13 Sep 2024 23:55:15 GMT', 'inverseRate': 0.0083695702997147}, 'byn': {'code': 'BYN', 'alphaCode': 'BYN', 'numericCode': '933', 'name': 'Belarussian Ruble', 'rate': 3.2725853837679, 'date': 'Fri, 13 Sep 2024 23:55:15 GMT', 'inverseRate': 0.30556880347875}, 'pkr': {'code': 'PKR', 'alphaCode': 'PKR', 'numericCode': '586', 'name': 'Pakistani Rupee', 'rate': 278.18678459938, 'date': 'Fri, 13 Sep 2024 23:55:15 GMT', 'inverseRate': 0.0035947070650394}, 'dop': {'code': 'DOP', 'alphaCode': 'DOP', 'numericCode': '214', 'name': 'Dominican Peso', 'rate': 59.917477286252, 'date': 'Fri, 13 Sep 2024 23:55:15 GMT', 'inverseRate': 0.0166896212139}, 'ves': {'code': 'VES', 'alphaCode': 'VES', 'numericCode': '928', 'name': 'Venezuelan Bolivar', 'rate': 36.679833274469, 'date': 'Fri, 13 Sep 2024 23:55:15 GMT', 'inverseRate': 0.027262937443504}, 'pen': {'code': 'PEN', 'alphaCode': 'PEN', 'numericCode': '604', 'name': 'Peruvian Nuevo Sol', 'rate': 3.7697390946766, 'date': 'Fri, 13 Sep 2024 23:55:15 GMT', 'inverseRate': 0.26527034759836}, 'rub': {'code': 'RUB', 'alphaCode': 'RUB', 'numericCode': '643', 'name': 'Russian Rouble', 'rate': 90.933079774437, 'date': 'Fri, 13 Sep 2024 23:55:15 GMT', 'inverseRate': 0.010997098113036}, 'sar': {'code': 'SAR', 'alphaCode': 'SAR', 'numericCode': '682', 'name': 'Saudi Riyal', 'rate': 3.7530400245854, 'date': 'Fri, 13 Sep 2024 23:55:15 GMT', 'inverseRate': 0.26645066224959}, 'aed': {'code': 'AED', 'alphaCode': 'AED', 'numericCode': '784', 'name': 'U.A.E Dirham', 'rate': 3.6729077543327, 'date': 'Fri, 13 Sep 2024 23:55:15 GMT', 'inverseRate': 0.27226384839651}, 'ars': {'code': 'ARS', 'alphaCode': 'ARS', 'numericCode': '032', 'name': 'Argentine Peso', 'rate': 959.44055944054, 'date': 'Fri, 13 Sep 2024 23:55:15 GMT', 'inverseRate': 0.0010422740524782}, 'bob': {'code': 'BOB', 'alphaCode': 'BOB', 'numericCode': '068', 'name': 'Bolivian Boliviano', 'rate': 6.8599999999998, 'date': 'Fri, 13 Sep 2024 23:55:15 GMT', 'inverseRate': 0.14577259475219}, 'cop': {'code': 'COP', 'alphaCode': 'COP', 'numericCode': '170', 'name': 'Colombian Peso', 'rate': 4182.9268292682, 'date': 'Fri, 13 Sep 2024 23:55:15 GMT', 'inverseRate': 0.00023906705539359}, 'crc': {'code': 'CRC', 'alphaCode': 'CRC', 'numericCode': '188', 'name': 'Costa Rican Colón', 'rate': 517.64063253012, 'date': 'Fri, 13 Sep 2024 23:55:15 GMT', 'inverseRate': 0.0019318421645384}, 'dzd': {'code': 'DZD', 'alphaCode': 'DZD', 'numericCode': '012', 'name': 'Algerian Dinar', 'rate': 132.30472516875, 'date': 'Fri, 13 Sep 2024 23:55:15 GMT', 'inverseRate': 0.0075583090379012}, 'htg': {'code': 'HTG', 'alphaCode': 'HTG', 'numericCode': '332', 'name': 'Haitian gourde', 'rate': 131.51840490797, 'date': 'Fri, 13 Sep 2024 23:55:15 GMT', 'inverseRate': 0.0076034985422743}, 'pab': {'code': 'PAB', 'alphaCode': 'PAB', 'numericCode': '590', 'name': 'Panamanian Balboa', 'rate': 1, 'date': 'Fri, 13 Sep 2024 23:55:15 GMT', 'inverseRate': 1}, 'pyg': {'code': 'PYG', 'alphaCode': 'PYG', 'numericCode': '600', 'name': 'Paraguayan Guaraní', 'rate': 7795.4545454541, 'date': 'Fri, 13 Sep 2024 23:55:15 GMT', 'inverseRate': 0.00012827988338193}, 'tnd': {'code': 'TND', 'alphaCode': 'TND', 'numericCode': '788', 'name': 'Tunisian Dinar', 'rate': 3.045004816079, 'date': 'Fri, 13 Sep 2024 23:55:15 GMT', 'inverseRate': 0.32840670553936}, 'uyu': {'code': 'UYU', 'alphaCode': 'UYU', 'numericCode': '858', 'name': 'Uruguayan Peso', 'rate': 40.801760542437, 'date': 'Fri, 13 Sep 2024 23:55:15 GMT', 'inverseRate': 0.024508746355686}, 'ngn': {'code': 'NGN', 'alphaCode': 'NGN', 'numericCode': '566', 'name': 'Nigerian Naira', 'rate': 1645.626, 'date': 'Fri, 13 Sep 2024 23:55:15 GMT', 'inverseRate': 0.00060767148793225}}\n"
     ]
    }
   ],
   "source": [
    "with open(\"usd.json\") as f:\n",
    "    data = json.load(f)\n",
    "\n",
    "print(type(data))\n",
    "print(data)"
   ]
  },
  {
   "cell_type": "code",
   "execution_count": 17,
   "id": "7c0d86ac-bc29-4b1a-97c4-b5531e106ce6",
   "metadata": {},
   "outputs": [
    {
     "data": {
      "text/plain": [
       "543.44"
      ]
     },
     "execution_count": 17,
     "metadata": {},
     "output_type": "execute_result"
    }
   ],
   "source": [
    "#Q11\n",
    "\n",
    "cad_rate = data['cad']['rate']\n",
    "\n",
    "usd_amount = 400\n",
    "cad_amount = usd_amount * cad_rate\n",
    "\n",
    "cad_amount = round(cad_amount, 2)\n",
    "\n",
    "cad_amount"
   ]
  },
  {
   "cell_type": "code",
   "execution_count": 18,
   "id": "0e0f9274-1a78-454f-993b-99d88ff63f00",
   "metadata": {},
   "outputs": [],
   "source": [
    "def convert_to_int(input_to_convert):\n",
    "    try:\n",
    "        answer = int(input_to_convert)\n",
    "    except ValueError:\n",
    "        print(\"Could not convert string to int.\")\n",
    "        return None\n",
    "    except:\n",
    "        print(\"Error with your input argument.\")\n",
    "        return None\n",
    "    return answer"
   ]
  },
  {
   "cell_type": "code",
   "execution_count": 19,
   "id": "b4626ecf-b4b4-467e-a516-f39b59436d9e",
   "metadata": {},
   "outputs": [
    {
     "data": {
      "text/plain": [
       "320"
      ]
     },
     "execution_count": 19,
     "metadata": {},
     "output_type": "execute_result"
    }
   ],
   "source": [
    "#Q12\n",
    "answer_12 = convert_to_int(\"320\")\n",
    "answer_12"
   ]
  },
  {
   "cell_type": "code",
   "execution_count": 20,
   "id": "3e13c3ee-5090-442d-837e-00de78ee687e",
   "metadata": {},
   "outputs": [
    {
     "name": "stdout",
     "output_type": "stream",
     "text": [
      "Could not convert string to int.\n"
     ]
    }
   ],
   "source": [
    "#Q13\n",
    "answer_13 = convert_to_int(\"ninety-nine\")\n",
    "answer_13"
   ]
  },
  {
   "cell_type": "code",
   "execution_count": 21,
   "id": "f7577ab0-c8ac-44f2-a98b-abb681ee47cf",
   "metadata": {},
   "outputs": [
    {
     "name": "stdout",
     "output_type": "stream",
     "text": [
      "Error with your input argument.\n"
     ]
    }
   ],
   "source": [
    "#Q14\n",
    "answer_14 = convert_to_int([3, 2, 0])\n",
    "answer_14"
   ]
  },
  {
   "cell_type": "code",
   "execution_count": 22,
   "id": "3adeb572-9d51-4a3c-8e00-5f457963eefd",
   "metadata": {},
   "outputs": [],
   "source": [
    "directory = 'grade-data'\n",
    "grades = {}\n",
    "\n",
    "for filename in os.listdir(directory):\n",
    "    if filename.endswith(\".csv\"):\n",
    "        year = i nt(filename.split(\"-\")[2].split(\".\")[0])\n",
    "\n",
    "        filepath = os.path.join(directory, filename)\n",
    "        df = pd.read_csv(filepath)\n",
    "\n",
    "        df.set_index('course', inplace=True)\n",
    "\n",
    "        grades[year] = df"
   ]
  },
  {
   "cell_type": "code",
   "execution_count": 23,
   "id": "a025700d-1a02-4e8f-a61c-a10e26d860fe",
   "metadata": {},
   "outputs": [
    {
     "data": {
      "text/plain": [
       "[2017, 2018, 2019, 2020, 2021, 2022]"
      ]
     },
     "execution_count": 23,
     "metadata": {},
     "output_type": "execute_result"
    }
   ],
   "source": [
    "#Q15\n",
    "sorted_keys = sorted(grades.keys()) \n",
    "sorted_keys"
   ]
  },
  {
   "cell_type": "code",
   "execution_count": 24,
   "id": "f5d3bff5-5d3a-4861-b48b-ba4c560d9da0",
   "metadata": {},
   "outputs": [
    {
     "data": {
      "text/plain": [
       "3.325888236842226"
      ]
     },
     "execution_count": 24,
     "metadata": {},
     "output_type": "execute_result"
    }
   ],
   "source": [
    "#Q16\n",
    "df_2022 = grades[2022]\n",
    "avg_gpa = df_2022.loc[\"COMP SCI 320\", \"gpa\"]\n",
    "float(avg_gpa)"
   ]
  },
  {
   "cell_type": "code",
   "execution_count": 25,
   "id": "2fb834f6-6a90-465f-8ad5-020633996fa2",
   "metadata": {},
   "outputs": [
    {
     "data": {
      "text/plain": [
       "91"
      ]
     },
     "execution_count": 25,
     "metadata": {},
     "output_type": "execute_result"
    }
   ],
   "source": [
    "#Q17\n",
    "df_2022\n",
    "filtered_df_2022 = df_2022.loc[df_2022[\"course_subject\"] == \"Computer Sciences\"]\n",
    "num_comp_sci_classes = filtered_df_2022.shape[0]\n",
    "num_comp_sci_classes"
   ]
  },
  {
   "cell_type": "code",
   "execution_count": 26,
   "id": "e750bf10-d4cf-4541-9d14-3e9acbd6f05c",
   "metadata": {},
   "outputs": [
    {
     "data": {
      "text/plain": [
       "8479"
      ]
     },
     "execution_count": 26,
     "metadata": {},
     "output_type": "execute_result"
    }
   ],
   "source": [
    "#Q18\n",
    "answer_18 = filtered_df_2022[\"a_count\"].sum()\n",
    "int(answer_18)"
   ]
  },
  {
   "cell_type": "code",
   "execution_count": 27,
   "id": "6af3c75b-235e-4d62-b1f5-b8a83281b88b",
   "metadata": {},
   "outputs": [
    {
     "data": {
      "text/plain": [
       "0.18181818181818182"
      ]
     },
     "execution_count": 27,
     "metadata": {},
     "output_type": "execute_result"
    }
   ],
   "source": [
    "#Q19\n",
    "fraction = filtered_df_2022[\"a_count\"] / filtered_df_2022[\"total\"]\n",
    "mininim = float(fraction.min())\n",
    "mininim"
   ]
  },
  {
   "cell_type": "code",
   "execution_count": 28,
   "id": "39381a52-ddd2-4a68-957e-96831f5ff22a",
   "metadata": {},
   "outputs": [
    {
     "data": {
      "text/plain": [
       "{'COMP SCI 300': 0.4683698296836983,\n",
       " 'COMP SCI 304': 0.8835616438356164,\n",
       " 'COMP SCI 310': 0.345679012345679,\n",
       " 'COMP SCI 319': 0.6567164179104478,\n",
       " 'COMP SCI 320': 0.33044554455445546,\n",
       " 'COMP SCI 352': 0.29277566539923955,\n",
       " 'COMP SCI 354': 0.20095238095238097}"
      ]
     },
     "execution_count": 28,
     "metadata": {},
     "output_type": "execute_result"
    }
   ],
   "source": [
    "#Q20\n",
    "cs_300_399 = filtered_df_2022.loc[(filtered_df_2022[\"course_num\"] >= 300) & (filtered_df_2022[\"course_num\"] <= 399)]\n",
    "fraction_a = cs_300_399[\"a_count\"] / cs_300_399[\"total\"]\n",
    "fraction_a_dict = fraction_a.to_dict()\n",
    "fraction_a_dict"
   ]
  },
  {
   "cell_type": "code",
   "execution_count": 29,
   "id": "2edfc03b-b7eb-4570-95a7-cb014c8718a5",
   "metadata": {},
   "outputs": [
    {
     "data": {
      "text/plain": [
       "<Axes: title={'center': 'Fraction of Students to Receive an \"A\" in 2022'}, xlabel='Course Name', ylabel='Fraction of Students'>"
      ]
     },
     "execution_count": 29,
     "metadata": {},
     "output_type": "execute_result"
    },
    {
     "data": {
      "image/png": "[encoded data removed]",
      "text/plain": [
       "<Figure size 640x480 with 1 Axes>"
      ]
     },
     "metadata": {},
     "output_type": "display_data"
    }
   ],
   "source": [
    "#Q21\n",
    "fraction_a.plot.bar(xlabel = \"Course Name\", ylabel = \"Fraction of Students\", title = \"Fraction of Students to Receive an \\\"A\\\" in 2022\")"
   ]
  },
  {
   "cell_type": "code",
   "execution_count": 30,
   "id": "2e608939-a6c5-41c6-a83a-c0f1adf55a7d",
   "metadata": {},
   "outputs": [
    {
     "data": {
      "text/plain": [
       "<Axes: title={'center': 'Number of Students Enrolled in COMP SCI 300 Over Time'}, xlabel='Year', ylabel='Number of Students'>"
      ]
     },
     "execution_count": 30,
     "metadata": {},
     "output_type": "execute_result"
    },
    {
     "data": {
      "image/png": "[encoded data removed]",
      "text/plain": [
       "<Figure size 640x480 with 1 Axes>"
      ]
     },
     "metadata": {},
     "output_type": "display_data"
    }
   ],
   "source": [
    "#Q22\n",
    "list_of_cs_300 = []\n",
    "years = []\n",
    "\n",
    "for key in grades.keys():\n",
    "    df = grades[key]\n",
    "    df_cs_300 = df.loc[(df[\"course_subject\"] == \"Computer Sciences\") & (df[\"course_num\"] == 300)]\n",
    "    num_cs_300 = df_cs_300[\"total\"].sum()\n",
    "    list_of_cs_300.append(int(num_cs_300))\n",
    "    years.append(key)\n",
    "\n",
    "cs_300_totals_series = pd.Series(list_of_cs_300, index=years)\n",
    "cs_300_totals_series = cs_300_totals_series.sort_index()\n",
    "cs_300_totals_series.plot.line(xlabel = \"Year\", ylabel = \"Number of Students\", title = \"Number of Students Enrolled in COMP SCI 300 Over Time\")"
   ]
  },
  {
   "cell_type": "code",
   "execution_count": 31,
   "id": "18f574a7-b9dc-47b5-95d4-044cbc172289",
   "metadata": {},
   "outputs": [
    {
     "data": {
      "image/png": "[encoded data removed]",
      "text/plain": [
       "<Figure size 700x500 with 1 Axes>"
      ]
     },
     "metadata": {},
     "output_type": "display_data"
    }
   ],
   "source": [
    "#Q23\n",
    "num_a_count = df_2022[\"a_count\"]\n",
    "num_enrolled_students = df_2022[\"total\"]\n",
    "\n",
    "plt.figure(figsize = (7, 5))\n",
    "plt.scatter(num_enrolled_students, num_a_count)\n",
    "plt.xlabel(\"Number of Enrolled Students\")\n",
    "plt.ylabel(\"Number of Students Earning an \\\"A\\\"\")\n",
    "plt.title(\"Number of Students Earning an \\\"A\\\" vs. Number of Students Enrolled\")\n",
    "plt.show()"
   ]
  },
  {
   "cell_type": "code",
   "execution_count": null,
   "id": "af1537d2-9e51-4f1e-871b-6f1105b4f31a",
   "metadata": {},
   "outputs": [],
   "source": []
  }
 ],
 "metadata": {
  "kernelspec": {
   "display_name": "Python 3 (ipykernel)",
   "language": "python",
   "name": "python3"
  },
  "language_info": {
   "codemirror_mode": {
    "name": "ipython",
    "version": 3
   },
   "file_extension": ".py",
   "mimetype": "text/x-python",
   "name": "python",
   "nbconvert_exporter": "python",
   "pygments_lexer": "ipython3",
   "version": "3.10.12"
  }
 },
 "nbformat": 4,
 "nbformat_minor": 5
}
