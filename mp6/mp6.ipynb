{
 "cells": [
  {
   "cell_type": "code",
   "execution_count": 1,
   "id": "87459033-5ec2-4621-92c7-c0f26535798a",
   "metadata": {},
   "outputs": [],
   "source": [
    "import zipfile\n",
    "import numpy as np\n",
    "import pandas as pd\n",
    "import matplotlib.pyplot as plt\n",
    "from zipfile import ZipFile\n",
    "import edgar_utils as eu\n",
    "from edgar_utils import lookup_region\n",
    "from edgar_utils import Filing\n",
    "from bs4 import BeautifulSoup\n",
    "from collections import defaultdict\n",
    "from collections import Counter"
   ]
  },
  {
   "cell_type": "code",
   "execution_count": 2,
   "id": "a8fcf7b7-936c-4023-9907-319f845f6eb7",
   "metadata": {},
   "outputs": [],
   "source": [
    "%load_ext autoreload\n",
    "%autoreload 2"
   ]
  },
  {
   "cell_type": "code",
   "execution_count": 3,
   "id": "221d5d3c-8dac-400e-955e-72d20ab940c6",
   "metadata": {},
   "outputs": [
    {
     "data": {
      "text/plain": [
       "24801002666"
      ]
     },
     "execution_count": 3,
     "metadata": {},
     "output_type": "execute_result"
    }
   ],
   "source": [
    "#q1\n",
    "\n",
    "with ZipFile('server_log.zip', 'r') as zf:\n",
    "    with zf.open('rows.csv') as file:\n",
    "        df = pd.read_csv(file)\n",
    "        \n",
    "total_size = int(df['size'].sum())\n",
    "total_size"
   ]
  },
  {
   "cell_type": "code",
   "execution_count": 4,
   "id": "02757d4b-b3c0-43b3-b092-ce54e6a7a5f3",
   "metadata": {},
   "outputs": [
    {
     "data": {
      "text/plain": [
       "{'54.152.17.ccg': 12562,\n",
       " '183.195.251.hah': 6524,\n",
       " '52.45.218.ihf': 5562,\n",
       " '68.180.231.abf': 5493,\n",
       " '204.212.175.bch': 4708,\n",
       " '103.238.106.gif': 4428,\n",
       " '208.77.215.jeh': 3903,\n",
       " '208.77.214.jeh': 3806,\n",
       " '217.174.255.dgd': 3551,\n",
       " '82.13.163.caf': 3527}"
      ]
     },
     "execution_count": 4,
     "metadata": {},
     "output_type": "execute_result"
    }
   ],
   "source": [
    "#q2\n",
    "\n",
    "# df['count'] = 1\n",
    "# required_df = df[['ip', 'count']]\n",
    "# sum_df = required_df.groupby('ip').sum()\n",
    "# dict_needed = sum_df['count'].sort_values(ascending = False).head(10).to_dict()\n",
    "# dict_needed\n",
    "\n",
    "dict_needed = df[\"ip\"].value_counts().head(10).to_dict()\n",
    "dict_needed"
   ]
  },
  {
   "cell_type": "code",
   "execution_count": 5,
   "id": "800c601b-b810-4dac-833c-d2e228847680",
   "metadata": {},
   "outputs": [
    {
     "data": {
      "text/plain": [
       "0.03466852724527611"
      ]
     },
     "execution_count": 5,
     "metadata": {},
     "output_type": "execute_result"
    }
   ],
   "source": [
    "#q3\n",
    "\n",
    "# num_requests = len(df)\n",
    "\n",
    "# error_counts = 0\n",
    "\n",
    "# for code in df['code']:\n",
    "#     if code >= 400.0:\n",
    "#         error_counts += 1\n",
    "        \n",
    "# error_counts / num_requests\n",
    "\n",
    "num_requests = len(df)\n",
    "\n",
    "error_counts = df[df['code'] >= 400.0].shape[0]\n",
    "\n",
    "error_counts / num_requests"
   ]
  },
  {
   "cell_type": "code",
   "execution_count": 6,
   "id": "29422165-1d2b-4a82-a571-f39719e4d53d",
   "metadata": {},
   "outputs": [
    {
     "data": {
      "text/plain": [
       "'1584509/0001584509-16-000514/armk-20160930_def.xml'"
      ]
     },
     "execution_count": 6,
     "metadata": {},
     "output_type": "execute_result"
    }
   ],
   "source": [
    "#q4\n",
    "\n",
    "# new_df = df[['cik', 'accession', 'extention']]\n",
    "# sum_df = new_df.groupby(['cik', 'accession', 'extention']).size().sort_values(ascending = False).index.to_list()\n",
    "# cik = int(sum_df[1][0])\n",
    "# accession = sum_df[1][1]\n",
    "# extention = sum_df[1][2]\n",
    "# string_needed = f\"{cik}/{accession}/{extention}\"\n",
    "# string_needed\n",
    "\n",
    "df['file_path'] = df[\"cik\"].astype(int).astype(str) + \"/\" + df[\"accession\"] + \"/\" + df[\"extention\"]\n",
    "file_counts = df[\"file_path\"].value_counts()\n",
    "file_counts.index[1]"
   ]
  },
  {
   "cell_type": "code",
   "execution_count": 7,
   "id": "a478ebda-3066-4c5b-95c6-aeec4014a2b3",
   "metadata": {},
   "outputs": [
    {
     "data": {
      "text/plain": [
       "'United States of America'"
      ]
     },
     "execution_count": 7,
     "metadata": {},
     "output_type": "execute_result"
    }
   ],
   "source": [
    "#q5\n",
    "\n",
    "# unique_ips = df['ip'].unique()\n",
    "# ip_to_region = {ip: eu.lookup_region(ip) for ip in unique_ips}\n",
    "\n",
    "# df['region'] = df['ip'].map(ip_to_region)\n",
    "\n",
    "# # Step 3: Group by region and sum the counts to find the region with max resources\n",
    "# max_resources_region = df.groupby('region')['count'].sum().idxmax()\n",
    "# max_resources_region\n",
    "\n",
    "df['region'] = df['ip'].apply(lookup_region)\n",
    "region_counts = df['region'].value_counts()\n",
    "region_counts.idxmax()"
   ]
  },
  {
   "cell_type": "code",
   "execution_count": 8,
   "id": "2d4b9272-0ffc-4b7c-a0d9-e2e46b6d74b6",
   "metadata": {},
   "outputs": [
    {
     "data": {
      "text/plain": [
       "{'-': 0.0,\n",
       " 'Algeria': 0.0,\n",
       " 'Angola': 0.0,\n",
       " 'Armenia': 0.0,\n",
       " 'Australia': 0.07692307692307693,\n",
       " 'Austria': 0.0,\n",
       " 'Bangladesh': 0.0,\n",
       " 'Brazil': 0.0,\n",
       " 'Bulgaria': 0.3333333333333333,\n",
       " 'Canada': 0.05357142857142857,\n",
       " 'China': 0.016018306636155607,\n",
       " 'Croatia': 0.0,\n",
       " 'Cyprus': 0.0,\n",
       " 'Czechia': 0.3333333333333333,\n",
       " 'Denmark': 0.0,\n",
       " 'Egypt': 0.0,\n",
       " 'Estonia': 0.0,\n",
       " 'Finland': 0.0,\n",
       " 'France': 0.0036900369003690036,\n",
       " 'Germany': 0.047619047619047616,\n",
       " 'Greece': 0.0,\n",
       " 'Honduras': 0.0,\n",
       " 'Hong Kong': 0.037037037037037035,\n",
       " 'Hungary': 0.0,\n",
       " 'India': 0.08823529411764706,\n",
       " 'Indonesia': 0.0,\n",
       " 'Iraq': 0.0,\n",
       " 'Ireland': 0.625,\n",
       " 'Israel': 0.0,\n",
       " 'Italy': 0.0,\n",
       " 'Japan': 0.0,\n",
       " 'Jersey': 0.0,\n",
       " 'Jordan': 0.0,\n",
       " 'Korea (Republic of)': 0.2,\n",
       " 'Latvia': 0.0,\n",
       " 'Lebanon': 0.0,\n",
       " 'Liberia': 0.0,\n",
       " 'Luxembourg': 0.0,\n",
       " 'Malaysia': 0.0,\n",
       " 'Mexico': 0.0,\n",
       " 'Mongolia': 0.0,\n",
       " 'Morocco': 0.0,\n",
       " 'Netherlands': 0.0,\n",
       " 'Nigeria': 0.0,\n",
       " 'North Macedonia': 0.0,\n",
       " 'Pakistan': 0.0,\n",
       " 'Philippines': 0.0,\n",
       " 'Poland': 0.0,\n",
       " 'Portugal': 0.0,\n",
       " 'Romania': 0.0,\n",
       " 'Russian Federation': 0.0,\n",
       " 'Saudi Arabia': 0.0,\n",
       " 'Singapore': 0.0,\n",
       " 'Slovakia': 0.0,\n",
       " 'Slovenia': 0.0,\n",
       " 'South Africa': 0.0,\n",
       " 'Spain': 0.0,\n",
       " 'Sudan': 0.0,\n",
       " 'Sweden': 0.0,\n",
       " 'Switzerland': 0.0,\n",
       " 'Syrian Arab Republic': 0.0,\n",
       " 'Taiwan (Province of China)': 0.0,\n",
       " 'Tanzania, United Republic of': 0.0,\n",
       " 'Thailand': 0.0,\n",
       " 'Turkey': 0.0,\n",
       " 'Ukraine': 0.0,\n",
       " 'United Kingdom of Great Britain and Northern Ireland': 0.08888888888888889,\n",
       " 'United States of America': 0.04889228418640183,\n",
       " 'Venezuela (Bolivarian Republic of)': 0.0,\n",
       " 'Viet Nam': 0.0,\n",
       " 'Virgin Islands (British)': 0.0,\n",
       " 'Yemen': 0.0}"
      ]
     },
     "execution_count": 8,
     "metadata": {},
     "output_type": "execute_result"
    }
   ],
   "source": [
    "#q6\n",
    "\n",
    "high_volume_ip_counts = df['ip'].value_counts()\n",
    "high_volume_ips = high_volume_ip_counts[high_volume_ip_counts > 300].index\n",
    "\n",
    "df['is_high_volume'] = df['ip'].isin(high_volume_ips)\n",
    "\n",
    "region_ip_counts = df.groupby('region')['ip'].nunique()  # Total unique IPs in each region\n",
    "high_volume_region_counts = df[df['is_high_volume']].groupby('region')['ip'].nunique()  # High-volume IPs in each region\n",
    "\n",
    "high_volume_fraction = (high_volume_region_counts / region_ip_counts).fillna(0).to_dict()\n",
    "high_volume_fraction"
   ]
  },
  {
   "cell_type": "code",
   "execution_count": 9,
   "id": "0a6042e7-dd7c-4532-863b-3fd515cd00ff",
   "metadata": {},
   "outputs": [
    {
     "data": {
      "text/plain": [
       "['2016-12-30', '2016-12-30', '2016-12-20']"
      ]
     },
     "execution_count": 9,
     "metadata": {},
     "output_type": "execute_result"
    }
   ],
   "source": [
    "#q7\n",
    "\n",
    "file_path = \"886982/0000769993-16-001958/-index.htm\"\n",
    "\n",
    "with ZipFile(\"docs.zip\", \"r\") as zf:\n",
    "    with zf.open(file_path) as file:\n",
    "        html_content = file.read().decode('utf-8')\n",
    "        \n",
    "filing_obj = Filing(html_content)\n",
    "filing_obj.dates"
   ]
  },
  {
   "cell_type": "code",
   "execution_count": 10,
   "id": "ec2cd45a-2968-4f97-9eaa-40e2e29bce3f",
   "metadata": {},
   "outputs": [],
   "source": [
    "filings = {}\n",
    "\n",
    "with ZipFile('docs.zip', \"r\") as zf:\n",
    "    for file_path in zf.namelist():\n",
    "        if file_path.endswith(\".htm\") or file_path.endswith(\".html\"):\n",
    "            with zf.open(file_path) as file:\n",
    "                html_content = file.read().decode(\"utf-8\")\n",
    "                filing_obj = Filing(html_content)\n",
    "                filings[file_path] = filing_obj"
   ]
  },
  {
   "cell_type": "code",
   "execution_count": 11,
   "id": "10eb820d-5f34-42b0-9ad1-cff46bba75d3",
   "metadata": {},
   "outputs": [
    {
     "data": {
      "text/plain": [
       "['P.O. BOX 19534\\nIRVINE CA 92713-9534',\n",
       " '2525 DUPONT DRIVE\\nIRVINE CA 92612\\n7142464500',\n",
       " '2525 DUPONT DR\\nIRVINE CA 92612']"
      ]
     },
     "execution_count": 11,
     "metadata": {},
     "output_type": "execute_result"
    }
   ],
   "source": [
    "filings['850693/0000850693-07-000159/-index.htm'].addresses"
   ]
  },
  {
   "cell_type": "code",
   "execution_count": 12,
   "id": "349d5604-0259-4a9f-8150-b0914f957aef",
   "metadata": {},
   "outputs": [
    {
     "data": {
      "text/plain": [
       "{'CA': 92,\n",
       " 'NJ': 23,\n",
       " 'MS': 1,\n",
       " 'MA': 30,\n",
       " 'CO': 25,\n",
       " 'NY': 83,\n",
       " None: 56,\n",
       " 'TX': 67,\n",
       " 'FL': 21,\n",
       " 'AL': 1,\n",
       " 'IN': 5,\n",
       " 'CT': 14,\n",
       " 'UT': 5,\n",
       " 'MD': 13,\n",
       " 'KS': 5,\n",
       " 'VA': 15,\n",
       " 'OH': 10,\n",
       " 'SD': 1,\n",
       " 'DE': 9,\n",
       " 'IL': 25,\n",
       " 'GA': 9,\n",
       " 'NC': 9,\n",
       " 'PA': 25,\n",
       " 'TN': 4,\n",
       " 'MN': 15,\n",
       " 'NM': 1,\n",
       " 'KY': 2,\n",
       " 'OK': 7,\n",
       " 'AR': 1,\n",
       " 'NV': 6,\n",
       " 'VT': 1,\n",
       " 'MO': 4,\n",
       " 'MI': 11,\n",
       " 'NE': 2,\n",
       " 'IA': 6,\n",
       " 'AZ': 5,\n",
       " 'WI': 9,\n",
       " 'LA': 2,\n",
       " 'ID': 1,\n",
       " 'OR': 2,\n",
       " 'WV': 2,\n",
       " 'WA': 3,\n",
       " 'DC': 1,\n",
       " 'ME': 1}"
      ]
     },
     "execution_count": 12,
     "metadata": {},
     "output_type": "execute_result"
    }
   ],
   "source": [
    "#q8\n",
    "\n",
    "state_distribution = defaultdict(int)\n",
    "\n",
    "for filing_obj in filings.values():\n",
    "    state = filing_obj.state()\n",
    "    state_distribution[state] += 1\n",
    "    \n",
    "state_distribution = dict(state_distribution)\n",
    "state_distribution"
   ]
  },
  {
   "cell_type": "code",
   "execution_count": 13,
   "id": "5f059d32-bf62-4707-82e1-356ec838ff96",
   "metadata": {},
   "outputs": [
    {
     "data": {
      "text/plain": [
       "{'2000 AVENUE OF THE STARS, 12TH FLOOR\\nLOS ANGELES CA 90067': 134,\n",
       " '2000 AVENUE OF THE STARS, 12TH FLOOR\\nLOS ANGELES CA 90067\\n3102014100': 113,\n",
       " '3 LANDMARK SQUARE\\nSUITE 500\\nSTAMFORD CT 06901\\n2033564400': 60,\n",
       " 'C/O KKR ASSET MANAGEMENT LLC\\n555 CALIFORNIA STREET, 50TH FLOOR\\nSAN FRANCISCO CA 94104': 36,\n",
       " 'C/O ARES MANAGEMENT LLC\\n2000 AVENUE OF THE STARS, 12TH FLOOR\\nLOS ANGELES CA 90067': 35,\n",
       " '4740 AGAR DRIVE\\nRICHMOND A1 V7B 1A3': 25,\n",
       " 'CENTRALIS S.A., 8-10 AVENUE DE LA GARE\\nLUXEMBOURG N4 L-1610': 25,\n",
       " 'CENTRALIS S.A., 8-10 AVENUE DE LA GARE\\nLUXEMBOURG N4 L-1610\\n352-26-186-1': 25,\n",
       " '3 LANDMARK SQUARE\\nSUITE 500\\nSTAMFORD CT 06901': 24,\n",
       " '801 CHERRY STREET\\nSUITE 2100\\nFORT WORTH TX 76102': 22}"
      ]
     },
     "execution_count": 13,
     "metadata": {},
     "output_type": "execute_result"
    }
   ],
   "source": [
    "#q9\n",
    "\n",
    "all_addresses = []\n",
    "\n",
    "for filing_obj in filings.values():\n",
    "    all_addresses.extend(filing_obj.addresses)\n",
    "    \n",
    "address_distribution = Counter(all_addresses)\n",
    "top_10_addresses = address_distribution.most_common(10)\n",
    "top_10_addresses_dict = dict(top_10_addresses)\n",
    "top_10_addresses_dict"
   ]
  },
  {
   "cell_type": "code",
   "execution_count": null,
   "id": "fe609024-9869-434c-9ca4-65e9373920c6",
   "metadata": {},
   "outputs": [],
   "source": []
  }
 ],
 "metadata": {
  "kernelspec": {
   "display_name": "Python 3 (ipykernel)",
   "language": "python",
   "name": "python3"
  },
  "language_info": {
   "codemirror_mode": {
    "name": "ipython",
    "version": 3
   },
   "file_extension": ".py",
   "mimetype": "text/x-python",
   "name": "python",
   "nbconvert_exporter": "python",
   "pygments_lexer": "ipython3",
   "version": "3.10.12"
  }
 },
 "nbformat": 4,
 "nbformat_minor": 5
}
