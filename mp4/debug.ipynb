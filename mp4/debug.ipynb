{
 "cells": [
  {
   "cell_type": "code",
   "execution_count": 112,
   "id": "066f9a14-727a-434e-bb64-aff1991bd5e7",
   "metadata": {},
   "outputs": [
    {
     "name": "stdout",
     "output_type": "stream",
     "text": [
      "The autoreload extension is already loaded. To reload it, use:\n",
      "  %reload_ext autoreload\n"
     ]
    }
   ],
   "source": [
    "import scrape\n",
    "import pandas as pd\n",
    "from selenium.webdriver.chrome.options import Options\n",
    "from selenium import webdriver\n",
    "import os\n",
    "from selenium.webdriver.chrome.service import Service\n",
    "from webdriver_manager.chrome import ChromeDriverManager\n",
    "from selenium import webdriver\n",
    "\n",
    "%load_ext autoreload\n",
    "%autoreload 2"
   ]
  },
  {
   "cell_type": "markdown",
   "id": "be57a873-9b05-469a-bac9-adcccfae2e65",
   "metadata": {},
   "source": [
    "# Part 1"
   ]
  },
  {
   "cell_type": "code",
   "execution_count": 113,
   "id": "1ebe0308-7a6f-4708-b1cb-5fbd2d7c15a8",
   "metadata": {},
   "outputs": [],
   "source": [
    "class Parent:\n",
    "    def twice(self):\n",
    "        self.message()\n",
    "        self.message()\n",
    "        \n",
    "    def message(self):\n",
    "        print(\"parent says hi\")\n",
    "        \n",
    "class Child(Parent):\n",
    "    def message(self):\n",
    "        print(\"child says hi\")\n",
    "        \n",
    "c = Child()"
   ]
  },
  {
   "cell_type": "code",
   "execution_count": 114,
   "id": "8fab6579-9643-4e55-8363-242eaadee02f",
   "metadata": {},
   "outputs": [
    {
     "name": "stdout",
     "output_type": "stream",
     "text": [
      "child says hi\n",
      "child says hi\n"
     ]
    }
   ],
   "source": [
    "c.twice()"
   ]
  },
  {
   "cell_type": "code",
   "execution_count": 115,
   "id": "59753ecf-9d48-4779-b58d-12c33331826b",
   "metadata": {},
   "outputs": [],
   "source": [
    "df = pd.DataFrame([\n",
    "    [0, 1, 0, 1],\n",
    "    [0, 0, 1, 0],\n",
    "    [0, 0, 0, 1],\n",
    "    [0, 0, 1, 0],\n",
    "], index=[\"A\", \"B\", \"C\", \"D\"], columns=[\"A\", \"B\", \"C\", \"D\"])"
   ]
  },
  {
   "cell_type": "code",
   "execution_count": 116,
   "id": "1fbf404f-598b-414f-a637-5d48ff8d224e",
   "metadata": {},
   "outputs": [
    {
     "name": "stdout",
     "output_type": "stream",
     "text": [
      "C\n"
     ]
    }
   ],
   "source": [
    "for node, has_edge in df.loc[\"B\"].items():\n",
    "    if has_edge == 1:\n",
    "        print(node)"
   ]
  },
  {
   "cell_type": "code",
   "execution_count": 117,
   "id": "91edb086-91a3-4a30-a096-25911f8b626a",
   "metadata": {},
   "outputs": [],
   "source": [
    "m = scrape.MatrixSearcher(df)"
   ]
  },
  {
   "cell_type": "code",
   "execution_count": 118,
   "id": "31f84372-602e-4404-91f5-4caa5e690188",
   "metadata": {},
   "outputs": [],
   "source": [
    "m.dfs_search(\"A\")"
   ]
  },
  {
   "cell_type": "code",
   "execution_count": 119,
   "id": "d644e8d3-a155-4657-99fb-264ba1d8219f",
   "metadata": {},
   "outputs": [
    {
     "data": {
      "text/plain": [
       "['A', 'B', 'C', 'D']"
      ]
     },
     "execution_count": 119,
     "metadata": {},
     "output_type": "execute_result"
    }
   ],
   "source": [
    "m.order"
   ]
  },
  {
   "cell_type": "markdown",
   "id": "48c95340-bfd4-4dec-878f-41f466d95b7b",
   "metadata": {},
   "source": [
    "# Part 2"
   ]
  },
  {
   "cell_type": "code",
   "execution_count": 120,
   "id": "697559a0-2427-457f-a02a-e014aa12e3bf",
   "metadata": {},
   "outputs": [
    {
     "data": {
      "text/plain": [
       "['A', 'B', 'D', 'C']"
      ]
     },
     "execution_count": 120,
     "metadata": {},
     "output_type": "execute_result"
    }
   ],
   "source": [
    "df = pd.DataFrame([\n",
    "    [0,1,0,1],\n",
    "    [0,0,1,0],\n",
    "    [0,0,0,1],\n",
    "    [0,0,1,0],\n",
    "], index=[\"A\", \"B\", \"C\", \"D\"], columns=[\"A\", \"B\", \"C\", \"D\"])\n",
    "\n",
    "m = scrape.MatrixSearcher(df)\n",
    "m.bfs_search(\"A\")\n",
    "m.order"
   ]
  },
  {
   "cell_type": "code",
   "execution_count": 121,
   "id": "2d957f21-1aa5-43fa-8eb8-0770bfe95e0f",
   "metadata": {},
   "outputs": [
    {
     "data": {
      "text/plain": [
       "'<html><head>\\n    <link href=\"https://fonts.googleapis.com/css2?family=VT323&amp;display=swap\" rel=\"stylesheet\">\\n    <link rel=\"stylesheet\" href=\"styles.css\">\\n    <script src=\"https://code.jquery.com/jquery-3.4.1.js\"></script>\\n    <script>\\n      $(document).ready(function() {\\n        window.customData = {}\\n        window.customData.rootURL = window.location.href\\n        const passwordInput = $(\\'#password-textbox\\');\\n        const attemptButton = $(\\'#submit-button\\');\\n        const passwordCheckURL = `${window.customData.rootURL}password`\\n\\n        const tryPassword = () => {\\n          const data = passwordInput.val()\\n          $.post({\\n            type: \"POST\",\\n            url: passwordCheckURL,\\n            data: data,\\n            contentType: \"application/text; charset=utf-8\",\\n            dataType: \"json\"\\n          }).then((resp) => {\\n            if(resp !== \\'NO\\'){\\n              newURL = window.customData.rootURL + resp\\n              window.location.href = newURL\\n            }\\n          });\\n        }\\n        attemptButton.click(tryPassword)\\n      });\\n   </script>\\n   </head>\\n        \\n  <body>\\n    <h1>Welcome!</h1>\\n\\n      <p> Gumshoes, the cyber crimes division of ACME needs YOUR help to track down the infamous hacker Blue Palo Alto. </p>\\n          \\n      <p>We\\'ve received reports of him popping up all over the world, but we have no clue in what order he visited these locations or where he is now. Use your knowledge of Breadth-First and Depth-First search to navigate his travel history, figure out the order he visited these locations in, and then use the clues found at each location to crack his password and reveal his current whereabouts! </p>\\n    \\n    \\n    <div class=\"interactivity-container\">\\n      <h3><a href=\"Node_1.html\" id=\"maze-entrance\">TRAVEL HISTORY</a></h3>\\n        <!-- password keypad start here:Edits for f21-->\\n        <h3><a> Enter the passcode and press go. </a></h3>\\n        <h3><a id=\"display_password\">Password:</a> <input id=\"password-textbox\"> <button id=\"submit-button\">GO</button> </h3>\\n    </div>\\n    <!-- script to change output of password:-->\\n    <script>\\n    function addItems(btn_id){\\n      var q= document.getElementById(btn_id).innerText;\\n      var k=document.getElementById(\"display_password\").innerText;\\n      document.getElementById(\"display_password\").innerHTML=k+q\\n\\n    }\\n    function clearItems(){\\n        document.getElementById(\"display_password\").innerHTML=\"Password:\"\\n    }\\n</script>\\n    \\n\\n\\n\\n</body></html>'"
      ]
     },
     "execution_count": 121,
     "metadata": {},
     "output_type": "execute_result"
    }
   ],
   "source": [
    "options = Options()\n",
    "options.add_argument(\"--headless\")\n",
    "options.add_argument(\"--no-sandbox\")\n",
    "options.add_argument(\"--disable-dev-shm-usage\")\n",
    "\n",
    "service = Service(ChromeDriverManager().install())\n",
    "\n",
    "driver = webdriver.Chrome(options=options, service=service)\n",
    "url = \"http://34.133.118.79:5000/\"\n",
    "\n",
    "driver.get(url)\n",
    "webpage = driver.page_source\n",
    "\n",
    "driver.close()\n",
    "\n",
    "webpage"
   ]
  },
  {
   "cell_type": "code",
   "execution_count": 122,
   "id": "1863dd86-11b6-4961-bc61-7a9dd85cf724",
   "metadata": {},
   "outputs": [
    {
     "name": "stdout",
     "output_type": "stream",
     "text": [
      "['2.txt', '4.txt'] ['M'] M\n"
     ]
    }
   ],
   "source": [
    "fs = scrape.FileSearcher()\n",
    "print(fs.visit_and_get_children(\"1.txt\"), fs.order, fs.concat_order())"
   ]
  },
  {
   "cell_type": "markdown",
   "id": "5c46361b-c3d6-48a9-8487-d57e798b3ee1",
   "metadata": {},
   "source": [
    "# Part 3"
   ]
  },
  {
   "cell_type": "code",
   "execution_count": 123,
   "id": "13468010-abc9-4666-b704-b42f48c957ee",
   "metadata": {},
   "outputs": [],
   "source": [
    "options = Options()\n",
    "options.add_argument(\"--headless=new\")\n",
    "options.add_argument(\"--disable-gpu\")\n",
    "options.add_argument(\"--no-sandbox\")\n",
    "options.binary_location = \"/usr/bin/chromium-browser\"\n",
    "\n",
    "driver = webdriver.Chrome(options=options)\n",
    "\n",
    "ws = scrape.WebSearcher(driver)"
   ]
  },
  {
   "cell_type": "code",
   "execution_count": 124,
   "id": "3d824e86-950d-426e-bf48-419febc769a6",
   "metadata": {},
   "outputs": [
    {
     "name": "stdout",
     "output_type": "stream",
     "text": [
      "    clue   latitude   longitude                          description\n",
      "0      1  43.089034  -89.416128              Picnic Point in Madison\n",
      "1      7  38.105507  126.910613               Silver Beach in Hawaii\n",
      "2      1  65.044901  -16.712836  Shore of a Volcanic Lake in Iceland\n",
      "3      3  48.860945    2.335773                  The Louvre in Paris\n",
      "4      5  37.434183 -122.321990      Redwood forest in San Francisco\n",
      "5      8  51.180315   -1.829659                 Stonehenge in the UK\n",
      "6      2  27.987586   86.925002                 Mt. Everest in Nepal\n",
      "7      4  34.134117 -118.321495                 Hollywood Sign in LA\n",
      "8      5  38.655100   90.061800                 Cahokia Mounds in IL\n",
      "9      9  40.748400   73.985700          Empire State Building in NY\n",
      "10     4  29.975300   31.137600        Great Sphinx of Giza in Egypt\n",
      "11     1  47.557600   10.749800     Neuschwanstein Castle in Germany\n",
      "12     5  38.624700   90.184800        The Gateway Arch in St. Louis\n",
      "13     3  30.328500   35.444400                      Petra in Jordan\n",
      "14     2  41.480800   82.683400                    Cedar Point in OH\n",
      "15     6  43.070010  -89.409450          Quick Trip on Monroe Street\n"
     ]
    }
   ],
   "source": [
    "os.system(\"pkill -f -9 chromium\")\n",
    "\n",
    "options = Options()\n",
    "options.add_argument(\"--headless=new\")\n",
    "options.binary_location = \"/usr/bin/chromium-browser\"\n",
    "driver_path = \"/usr/lib/chromium-browser/chromedriver\"\n",
    "service = Service(driver_path)\n",
    "service.start()\n",
    "\n",
    "driver = webdriver.Chrome(options=options)\n",
    "\n",
    "VM_IP = '34.133.118.79'\n",
    "start_url = f\"http://{VM_IP}:5000/Node_1.html\"\n",
    "\n",
    "ws = scrape.WebSearcher(driver)\n",
    "ws.bfs_search(start_url)\n",
    "table = ws.table()\n",
    "print(ws.table())\n",
    "driver.close()"
   ]
  },
  {
   "cell_type": "markdown",
   "id": "36e22b02-7cac-4157-a7c8-267e6ce65340",
   "metadata": {},
   "source": [
    "# Part 4"
   ]
  },
  {
   "cell_type": "code",
   "execution_count": 125,
   "id": "15dfb92b-5df5-4f31-8a8c-5a3f0fb256a5",
   "metadata": {},
   "outputs": [
    {
     "data": {
      "text/plain": [
       "'CAMP RANDALL STADIUM'"
      ]
     },
     "execution_count": 125,
     "metadata": {},
     "output_type": "execute_result"
    }
   ],
   "source": [
    "driver = webdriver.Chrome(options=options)\n",
    "\n",
    "VM_IP = '34.133.118.79'\n",
    "url = f\"http://{VM_IP}:5000\"\n",
    "ws = scrape.WebSearcher(driver)\n",
    "\n",
    "current_location = scrape.reveal_secrets(driver, url, table)\n",
    "current_location"
   ]
  },
  {
   "cell_type": "code",
   "execution_count": null,
   "id": "3c45038b-1889-4077-8ca5-2584eac137a5",
   "metadata": {},
   "outputs": [],
   "source": []
  }
 ],
 "metadata": {
  "kernelspec": {
   "display_name": "Python 3 (ipykernel)",
   "language": "python",
   "name": "python3"
  },
  "language_info": {
   "codemirror_mode": {
    "name": "ipython",
    "version": 3
   },
   "file_extension": ".py",
   "mimetype": "text/x-python",
   "name": "python",
   "nbconvert_exporter": "python",
   "pygments_lexer": "ipython3",
   "version": "3.10.12"
  }
 },
 "nbformat": 4,
 "nbformat_minor": 5
}
