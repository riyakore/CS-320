{
 "cells": [
  {
   "cell_type": "code",
   "execution_count": 1,
   "id": "dd2e1abd-ac3c-48ab-a766-d87892aebd05",
   "metadata": {},
   "outputs": [],
   "source": [
    "# import statements\n",
    "import numpy as np\n",
    "import pandas as pd\n",
    "import matplotlib.pyplot as plt\n",
    "from bs4 import BeautifulSoup\n",
    "import subprocess as sp\n",
    "import os\n",
    "import time"
   ]
  },
  {
   "cell_type": "code",
   "execution_count": 2,
   "id": "c978e130-74d9-45a9-8219-58c56928d261",
   "metadata": {},
   "outputs": [
    {
     "data": {
      "text/plain": [
       "'contact@example.com'"
      ]
     },
     "execution_count": 2,
     "metadata": {},
     "output_type": "execute_result"
    }
   ],
   "source": [
    "#Q1\n",
    "with open(\"sample.html\", \"r\") as file:\n",
    "    html_content = file.read()\n",
    "    \n",
    "soup1 = BeautifulSoup(html_content, \"html.parser\")\n",
    "contact_section = soup1.find('section', id=\"contact\")\n",
    "email_tag = contact_section.find('a', href=True)\n",
    "email = email_tag.get('href').replace(\"mailto:\", \"\")\n",
    "email"
   ]
  },
  {
   "cell_type": "code",
   "execution_count": 3,
   "id": "f6161454-fe56-45c3-8deb-eb57236338ee",
   "metadata": {},
   "outputs": [
    {
     "data": {
      "text/html": [
       "<div>\n",
       "<style scoped>\n",
       "    .dataframe tbody tr th:only-of-type {\n",
       "        vertical-align: middle;\n",
       "    }\n",
       "\n",
       "    .dataframe tbody tr th {\n",
       "        vertical-align: top;\n",
       "    }\n",
       "\n",
       "    .dataframe thead th {\n",
       "        text-align: right;\n",
       "    }\n",
       "</style>\n",
       "<table border=\"1\" class=\"dataframe\">\n",
       "  <thead>\n",
       "    <tr style=\"text-align: right;\">\n",
       "      <th></th>\n",
       "      <th>World Rank</th>\n",
       "      <th>Institution</th>\n",
       "      <th>Country</th>\n",
       "      <th>National Rank</th>\n",
       "      <th>Education Rank</th>\n",
       "      <th>Employability Rank</th>\n",
       "      <th>Faculty Rank</th>\n",
       "      <th>Research Rank</th>\n",
       "      <th>Score</th>\n",
       "    </tr>\n",
       "  </thead>\n",
       "  <tbody>\n",
       "    <tr>\n",
       "      <th>0</th>\n",
       "      <td>1</td>\n",
       "      <td>Harvard University</td>\n",
       "      <td>USA</td>\n",
       "      <td>1</td>\n",
       "      <td>1</td>\n",
       "      <td>1</td>\n",
       "      <td>1</td>\n",
       "      <td>1</td>\n",
       "      <td>100</td>\n",
       "    </tr>\n",
       "    <tr>\n",
       "      <th>1</th>\n",
       "      <td>2</td>\n",
       "      <td>Massachusetts Institute of Technology</td>\n",
       "      <td>USA</td>\n",
       "      <td>2</td>\n",
       "      <td>4</td>\n",
       "      <td>12</td>\n",
       "      <td>2</td>\n",
       "      <td>8</td>\n",
       "      <td>96.7</td>\n",
       "    </tr>\n",
       "    <tr>\n",
       "      <th>2</th>\n",
       "      <td>3</td>\n",
       "      <td>Stanford University</td>\n",
       "      <td>USA</td>\n",
       "      <td>3</td>\n",
       "      <td>10</td>\n",
       "      <td>4</td>\n",
       "      <td>3</td>\n",
       "      <td>2</td>\n",
       "      <td>95.1</td>\n",
       "    </tr>\n",
       "    <tr>\n",
       "      <th>3</th>\n",
       "      <td>4</td>\n",
       "      <td>University of Cambridge</td>\n",
       "      <td>United Kingdom</td>\n",
       "      <td>1</td>\n",
       "      <td>3</td>\n",
       "      <td>25</td>\n",
       "      <td>4</td>\n",
       "      <td>10</td>\n",
       "      <td>94.1</td>\n",
       "    </tr>\n",
       "    <tr>\n",
       "      <th>4</th>\n",
       "      <td>5</td>\n",
       "      <td>University of Oxford</td>\n",
       "      <td>United Kingdom</td>\n",
       "      <td>2</td>\n",
       "      <td>7</td>\n",
       "      <td>27</td>\n",
       "      <td>9</td>\n",
       "      <td>4</td>\n",
       "      <td>93.3</td>\n",
       "    </tr>\n",
       "    <tr>\n",
       "      <th>...</th>\n",
       "      <td>...</td>\n",
       "      <td>...</td>\n",
       "      <td>...</td>\n",
       "      <td>...</td>\n",
       "      <td>...</td>\n",
       "      <td>...</td>\n",
       "      <td>...</td>\n",
       "      <td>...</td>\n",
       "      <td>...</td>\n",
       "    </tr>\n",
       "    <tr>\n",
       "      <th>1995</th>\n",
       "      <td>1996</td>\n",
       "      <td>Santa Catarina State University</td>\n",
       "      <td>Brazil</td>\n",
       "      <td>56</td>\n",
       "      <td>-</td>\n",
       "      <td>936</td>\n",
       "      <td>-</td>\n",
       "      <td>1938</td>\n",
       "      <td>65.8</td>\n",
       "    </tr>\n",
       "    <tr>\n",
       "      <th>1996</th>\n",
       "      <td>1997</td>\n",
       "      <td>Yancheng Institute of Technology</td>\n",
       "      <td>China</td>\n",
       "      <td>275</td>\n",
       "      <td>-</td>\n",
       "      <td>-</td>\n",
       "      <td>-</td>\n",
       "      <td>1920</td>\n",
       "      <td>65.7</td>\n",
       "    </tr>\n",
       "    <tr>\n",
       "      <th>1997</th>\n",
       "      <td>1998</td>\n",
       "      <td>Xi'an University of Science and Technology</td>\n",
       "      <td>China</td>\n",
       "      <td>276</td>\n",
       "      <td>-</td>\n",
       "      <td>994</td>\n",
       "      <td>-</td>\n",
       "      <td>1937</td>\n",
       "      <td>65.7</td>\n",
       "    </tr>\n",
       "    <tr>\n",
       "      <th>1998</th>\n",
       "      <td>1999</td>\n",
       "      <td>CEU San Pablo University</td>\n",
       "      <td>Spain</td>\n",
       "      <td>53</td>\n",
       "      <td>-</td>\n",
       "      <td>568</td>\n",
       "      <td>-</td>\n",
       "      <td>1992</td>\n",
       "      <td>65.7</td>\n",
       "    </tr>\n",
       "    <tr>\n",
       "      <th>1999</th>\n",
       "      <td>2000</td>\n",
       "      <td>Huzhou University</td>\n",
       "      <td>China</td>\n",
       "      <td>277</td>\n",
       "      <td>-</td>\n",
       "      <td>-</td>\n",
       "      <td>-</td>\n",
       "      <td>1922</td>\n",
       "      <td>65.7</td>\n",
       "    </tr>\n",
       "  </tbody>\n",
       "</table>\n",
       "<p>2000 rows × 9 columns</p>\n",
       "</div>"
      ],
      "text/plain": [
       "     World Rank                                 Institution         Country  \\\n",
       "0             1                          Harvard University             USA   \n",
       "1             2       Massachusetts Institute of Technology             USA   \n",
       "2             3                         Stanford University             USA   \n",
       "3             4                     University of Cambridge  United Kingdom   \n",
       "4             5                        University of Oxford  United Kingdom   \n",
       "...         ...                                         ...             ...   \n",
       "1995       1996             Santa Catarina State University          Brazil   \n",
       "1996       1997            Yancheng Institute of Technology           China   \n",
       "1997       1998  Xi'an University of Science and Technology           China   \n",
       "1998       1999                    CEU San Pablo University           Spain   \n",
       "1999       2000                           Huzhou University           China   \n",
       "\n",
       "     National Rank Education Rank Employability Rank Faculty Rank  \\\n",
       "0                1              1                  1            1   \n",
       "1                2              4                 12            2   \n",
       "2                3             10                  4            3   \n",
       "3                1              3                 25            4   \n",
       "4                2              7                 27            9   \n",
       "...            ...            ...                ...          ...   \n",
       "1995            56              -                936            -   \n",
       "1996           275              -                  -            -   \n",
       "1997           276              -                994            -   \n",
       "1998            53              -                568            -   \n",
       "1999           277              -                  -            -   \n",
       "\n",
       "     Research Rank Score  \n",
       "0                1   100  \n",
       "1                8  96.7  \n",
       "2                2  95.1  \n",
       "3               10  94.1  \n",
       "4                4  93.3  \n",
       "...            ...   ...  \n",
       "1995          1938  65.8  \n",
       "1996          1920  65.7  \n",
       "1997          1937  65.7  \n",
       "1998          1992  65.7  \n",
       "1999          1922  65.7  \n",
       "\n",
       "[2000 rows x 9 columns]"
      ]
     },
     "execution_count": 3,
     "metadata": {},
     "output_type": "execute_result"
    }
   ],
   "source": [
    "with open(\"rankings.html\", \"r\") as file:\n",
    "    html_content = file.read()\n",
    "    \n",
    "soup2 = BeautifulSoup(html_content, \"html.parser\")\n",
    "table = soup2.find('table')\n",
    "headers = [header.text.strip() for header in table.find_all('th')]\n",
    "rows = []\n",
    "for row in table.find_all('tr')[1:]:\n",
    "    cells = row.find_all('td')\n",
    "    row_data = [cell.text.strip() for cell in cells]\n",
    "    rows.append(row_data)\n",
    "\n",
    "rankings_df = pd.DataFrame(rows, columns=headers)\n",
    "\n",
    "rankings_df"
   ]
  },
  {
   "cell_type": "code",
   "execution_count": 4,
   "id": "8eb0a94e-c968-4b9e-b451-0a523984dfd8",
   "metadata": {},
   "outputs": [
    {
     "data": {
      "text/plain": [
       "'Ludwig Maximilian University of Munich'"
      ]
     },
     "execution_count": 4,
     "metadata": {},
     "output_type": "execute_result"
    }
   ],
   "source": [
    "#Q2\n",
    "germany_ranked = rankings_df.loc[rankings_df[\"Country\"] == \"Germany\"]\n",
    "highest_ranked_germany = germany_ranked.loc[germany_ranked[\"National Rank\"].astype(int) == 1]\n",
    "\n",
    "highest_ranked_germany_institution = highest_ranked_germany[\"Institution\"].values[0]\n",
    "highest_ranked_germany_institution"
   ]
  },
  {
   "cell_type": "code",
   "execution_count": 5,
   "id": "27b811fe-7333-4a2a-bdbe-0234426ac88b",
   "metadata": {},
   "outputs": [
    {
     "data": {
      "text/plain": [
       "['Duke University',\n",
       " 'University of Illinois at Urbana–Champaign',\n",
       " 'University of Washington - Seattle',\n",
       " 'University of Wisconsin–Madison',\n",
       " 'New York University',\n",
       " 'University of Texas at Austin',\n",
       " 'University of California, San Diego',\n",
       " 'University of California, San Francisco',\n",
       " 'University of North Carolina at Chapel Hill',\n",
       " 'Dartmouth College']"
      ]
     },
     "execution_count": 5,
     "metadata": {},
     "output_type": "execute_result"
    }
   ],
   "source": [
    "#Q3\n",
    "germany_world_rank = highest_ranked_germany[\"World Rank\"].astype(int).values[0]\n",
    "\n",
    "usa_ranked_better_than_germany = rankings_df.loc[\n",
    "    (rankings_df[\"Country\"] == \"USA\") & \n",
    "    (rankings_df[\"World Rank\"].astype(int) < germany_world_rank)\n",
    "]\n",
    "\n",
    "lowest_10_usa = usa_ranked_better_than_germany.tail(10)\n",
    "\n",
    "lowest_10_usa_institutions = lowest_10_usa[\"Institution\"].tolist()\n",
    "lowest_10_usa_institutions"
   ]
  },
  {
   "cell_type": "code",
   "execution_count": 6,
   "id": "5edd02d4-921d-4288-bbd1-e62ae76dc7db",
   "metadata": {},
   "outputs": [
    {
     "name": "stderr",
     "output_type": "stream",
     "text": [
      "/tmp/ipykernel_122832/2275318195.py:3: SettingWithCopyWarning: \n",
      "A value is trying to be set on a copy of a slice from a DataFrame.\n",
      "Try using .loc[row_indexer,col_indexer] = value instead\n",
      "\n",
      "See the caveats in the documentation: https://pandas.pydata.org/pandas-docs/stable/user_guide/indexing.html#returning-a-view-versus-a-copy\n",
      "  india_ranks[\"Research Rank\"] = pd.to_numeric(india_ranks[\"Research Rank\"], errors='coerce')\n"
     ]
    },
    {
     "data": {
      "text/plain": [
       "['Indian Institute of Science',\n",
       " 'Tata Institute of Fundamental Research',\n",
       " 'Indian Institute of Technology Bombay',\n",
       " 'Indian Institute of Technology Madras',\n",
       " 'University of Delhi']"
      ]
     },
     "execution_count": 6,
     "metadata": {},
     "output_type": "execute_result"
    }
   ],
   "source": [
    "#Q4\n",
    "india_ranks = rankings_df.loc[rankings_df[\"Country\"] == \"India\"]\n",
    "india_ranks[\"Research Rank\"] = pd.to_numeric(india_ranks[\"Research Rank\"], errors='coerce')\n",
    "india_ranks = india_ranks.dropna(subset=[\"Research Rank\"])\n",
    "india_ranks_sorted = india_ranks.sort_values(by=\"Research Rank\", ascending=True).head(5)\n",
    "india_ranks_sorted[\"Institution\"].tolist()"
   ]
  },
  {
   "cell_type": "code",
   "execution_count": 7,
   "id": "6be0f5a7-8985-4225-9c41-9f089e228ae7",
   "metadata": {},
   "outputs": [
    {
     "data": {
      "text/plain": [
       "'commit 660994efc761efdfd49ca442b73f6712dc77b6cf'"
      ]
     },
     "execution_count": 7,
     "metadata": {},
     "output_type": "execute_result"
    }
   ],
   "source": [
    "#Q5\n",
    "output = sp.check_output([\"git\", \"log\"], cwd=\"flask\")\n",
    "output_str = str(output, \"utf-8\").split(\"\\n\")\n",
    "first_line = output_str[0]\n",
    "first_line"
   ]
  },
  {
   "cell_type": "code",
   "execution_count": 8,
   "id": "8af1a186-c2f1-427e-a050-b83bc1bed159",
   "metadata": {},
   "outputs": [
    {
     "data": {
      "text/plain": [
       "['a9d4ea81da28ee9c894bf9d45adc4cfa9d52fddc',\n",
       " '727c701686c18c4a27ca523eb0c5862d497be24e',\n",
       " '4edec48b74dbb9d571e927b69b24c30ec0624975',\n",
       " '625eba4bb403296a8bbc1e72cc9cf4a5126f6c02',\n",
       " '4aa76212d1be9b17a57249549c2a73fb10b6cda8',\n",
       " '3b36bef2e6165bb4dad73d17f23ee1879e99f497',\n",
       " '44b42e0fbd93d86e0f4e929bda8e5fb63e81035d',\n",
       " '4ec7d2a0d8eac4f915dc0d38a886cd57045bb0c4',\n",
       " 'b15ad394279fc3b7f998fa56857f334a7c0156f6',\n",
       " '33850c0ebd23ae615e6823993d441f46d80b1ff0']"
      ]
     },
     "execution_count": 8,
     "metadata": {},
     "output_type": "execute_result"
    }
   ],
   "source": [
    "#Q6\n",
    "list_of_commit_numbers = []\n",
    "for line in output_str:\n",
    "    if line.startswith(\"commit\"):\n",
    "        commit_number = line.split()[1]\n",
    "        list_of_commit_numbers.append(commit_number)\n",
    "        \n",
    "list_of_commit_numbers[-10:]"
   ]
  },
  {
   "cell_type": "code",
   "execution_count": 9,
   "id": "af8fdc9b-510b-4e41-a6d6-a4f75a61bea7",
   "metadata": {},
   "outputs": [
    {
     "name": "stderr",
     "output_type": "stream",
     "text": [
      "Note: switching to 'f878919753a909e45b2d5448aa175f4f9129ff24'.\n",
      "\n",
      "You are in 'detached HEAD' state. You can look around, make experimental\n",
      "changes and commit them, and you can discard any commits you make in this\n",
      "state without impacting any branches by switching back to a branch.\n",
      "\n",
      "If you want to create a new branch to retain commits you create, you may\n",
      "do so (now or later) by using -c with the switch command. Example:\n",
      "\n",
      "  git switch -c <new-branch-name>\n",
      "\n",
      "Or undo this operation with:\n",
      "\n",
      "  git switch -\n",
      "\n",
      "Turn off this advice by setting config variable advice.detachedHead to false\n",
      "\n",
      "HEAD is now at f8789197 With -> with in headline\n",
      "Previous HEAD position was f8789197 With -> with in headline\n",
      "Switched to branch 'main'\n"
     ]
    },
    {
     "data": {
      "text/plain": [
       "b\"Your branch is up to date with 'origin/main'.\\n\""
      ]
     },
     "execution_count": 9,
     "metadata": {},
     "output_type": "execute_result"
    }
   ],
   "source": [
    "commit_to_checkout = list_of_commit_numbers[-100]\n",
    "\n",
    "sp.check_output([\"git\", \"checkout\", commit_to_checkout], cwd=\"flask\")\n",
    "with open(\"flask/README\", \"r\") as file:\n",
    "    readme_content = file.read()\n",
    "\n",
    "sp.check_output([\"git\", \"checkout\", \"main\"], cwd=\"flask\")"
   ]
  },
  {
   "cell_type": "code",
   "execution_count": 10,
   "id": "914cf271-59f3-4150-bd02-72e596331773",
   "metadata": {},
   "outputs": [
    {
     "data": {
      "text/plain": [
       "\"\\n                          // Flask //\\n\\n         because sometimes a pocket knife is not enough\\n\\n\\n    ~ What is Flask?\\n\\n      Flask is a microframework for Python based on Werkzeug\\n      and Jinja2.  It's intended for small scale applications\\n      and was development with best intentions in mind.\\n\\n    ~ Is it ready?\\n\\n      A preview release is out now, and I'm hoping for some\\n      input about what you want from a microframework and\\n      how it should look like.  Consider the API to slightly\\n      improve over time.\\n\\n    ~ What do I need?\\n\\n      Jinja 2.4 and Werkzeug 0.6.1.  `easy_install` will\\n      install them for you if you do `easy_install Flask==dev`.\\n      I encourage you to use a virtualenv.  Check the docs for\\n      complete installation and usage instructions.\\n\\n    ~ Where are the docs?\\n\\n      Go to http://flask.pocoo.org/ for a prebuild version of\\n      the current documentation.  Otherwise build them yourself\\n      from the sphinx sources in the docs folder.\\n\""
      ]
     },
     "execution_count": 10,
     "metadata": {},
     "output_type": "execute_result"
    }
   ],
   "source": [
    "#Q7\n",
    "readme_content"
   ]
  },
  {
   "cell_type": "code",
   "execution_count": 11,
   "id": "d18ff6f6-9e40-442e-861b-482b1fead66c",
   "metadata": {},
   "outputs": [
    {
     "data": {
      "text/plain": [
       "{'pallets': 204,\n",
       " 'pgjones': 14,\n",
       " 'greyli': 42,\n",
       " 'ThiefMaster': 11,\n",
       " 'davidism': 45,\n",
       " 'untitaker': 20,\n",
       " 'ThomasWaldmann': 13,\n",
       " 'SimonSapin': 11}"
      ]
     },
     "execution_count": 11,
     "metadata": {},
     "output_type": "execute_result"
    }
   ],
   "source": [
    "#Q8\n",
    "pull_request_users = {}\n",
    "\n",
    "for line in output_str:\n",
    "    if \"Merge pull request\" in line and \"from\" in line:\n",
    "        username = line.split(\"from \")[1].split(\"/\")[0]\n",
    "        \n",
    "        if username not in pull_request_users:\n",
    "            pull_request_users[username] = 1\n",
    "        else:\n",
    "            pull_request_users[username] += 1\n",
    "\n",
    "users_with_10_or_more_prs = {}\n",
    "\n",
    "for user, count in pull_request_users.items():\n",
    "    if count >= 10:\n",
    "        users_with_10_or_more_prs[user] = count\n",
    "\n",
    "users_with_10_or_more_prs"
   ]
  },
  {
   "cell_type": "code",
   "execution_count": 12,
   "id": "568cf55a-fd88-4416-a2ea-6012f8d6221a",
   "metadata": {},
   "outputs": [
    {
     "data": {
      "text/plain": [
       "'ERROR: unknown command \"instal\" - maybe you meant \"install\"\\n'"
      ]
     },
     "execution_count": 12,
     "metadata": {},
     "output_type": "execute_result"
    }
   ],
   "source": [
    "#Q9\n",
    "try:\n",
    "    msg = sp.check_output([\"pip3\", \"instal\"], stderr=sp.STDOUT)\n",
    "except sp.CalledProcessError as e:\n",
    "    msg = e.output\n",
    "\n",
    "msg.decode(\"utf-8\")"
   ]
  },
  {
   "cell_type": "code",
   "execution_count": 13,
   "id": "58d10b69-bf35-4214-a41c-7a1b5f102324",
   "metadata": {},
   "outputs": [],
   "source": [
    "def rand_df(rows):\n",
    "    return pd.DataFrame(np.random.randint(10, size=(rows, 5)),\n",
    "                        columns=[\"A\", \"B\", \"C\", \"D\", \"E\"],\n",
    "                        index=[f\"r{i}\" for i in range(1, rows+1)])"
   ]
  },
  {
   "cell_type": "code",
   "execution_count": 14,
   "id": "6f211f18-91bb-4efe-8e13-d759cd0d2afe",
   "metadata": {},
   "outputs": [],
   "source": [
    "df1 = rand_df(1000)\n",
    "df2 = rand_df(2000)\n",
    "df3 = rand_df(3000)\n",
    "df4 = rand_df(4000)\n",
    "df5 = rand_df(5000)\n",
    "df6 = rand_df(6000)"
   ]
  },
  {
   "cell_type": "code",
   "execution_count": 15,
   "id": "41f81692-872a-4679-b185-d10fa8ed4261",
   "metadata": {},
   "outputs": [],
   "source": [
    "def get_time(df, type_of_looping):\n",
    "    \n",
    "    if type_of_looping == 'iterrows':\n",
    "        t0 = time.time()\n",
    "        for row in df.iterrows():\n",
    "            pass\n",
    "        t1 = time.time()\n",
    "        \n",
    "        return (t1 - t0)*1000\n",
    "    \n",
    "    if type_of_looping == 'itertuples':\n",
    "        t0 = time.time()\n",
    "        for row in df.itertuples():\n",
    "            pass\n",
    "        t1 = time.time()\n",
    "        \n",
    "        return (t1 - t0)*1000\n",
    "    \n",
    "    if type_of_looping == 'loc':\n",
    "        t0 = time.time()\n",
    "        total = 0\n",
    "        for idx in df.index:\n",
    "            for col in df.columns:\n",
    "                total += df.loc[idx, col]\n",
    "        t1 = time.time()\n",
    "        \n",
    "        return (t1 - t0)*1000\n",
    "    \n",
    "    if type_of_looping == 'at':\n",
    "        t0 = time.time()\n",
    "        total = 0\n",
    "        for idx in df.index:\n",
    "            for col in df.columns:\n",
    "                total += df.at[idx, col]\n",
    "        t1 = time.time()\n",
    "        \n",
    "        return (t1 - t0)*1000\n"
   ]
  },
  {
   "cell_type": "code",
   "execution_count": 16,
   "id": "a18d5e41-eda6-4d73-b57a-2a921501e08e",
   "metadata": {},
   "outputs": [
    {
     "data": {
      "text/plain": [
       "{'iterrows': [40.461063385009766,\n",
       "  62.3469352722168,\n",
       "  95.18170356750488,\n",
       "  127.97236442565918,\n",
       "  151.90982818603516,\n",
       "  181.03551864624023],\n",
       " 'itertuples': [1.7347335815429688,\n",
       "  2.1409988403320312,\n",
       "  3.080606460571289,\n",
       "  3.548860549926758,\n",
       "  4.347801208496094,\n",
       "  4.941225051879883],\n",
       " 'loc': [49.45802688598633,\n",
       "  95.67713737487793,\n",
       "  144.32144165039062,\n",
       "  190.63687324523926,\n",
       "  250.80037117004395,\n",
       "  286.48853302001953],\n",
       " 'at': [26.65543556213379,\n",
       "  51.778316497802734,\n",
       "  78.75967025756836,\n",
       "  104.34818267822266,\n",
       "  130.91373443603516,\n",
       "  158.80823135375977]}"
      ]
     },
     "execution_count": 16,
     "metadata": {},
     "output_type": "execute_result"
    }
   ],
   "source": [
    "times = {}\n",
    "iterrows_times = []\n",
    "itertuples_times = []\n",
    "loc_times = []\n",
    "at_times = []\n",
    "dfs = [df1, df2, df3, df4, df5, df6]\n",
    "\n",
    "for df in dfs:\n",
    "    iterrows_time = get_time(df, 'iterrows')\n",
    "    iterrows_times.append(iterrows_time)\n",
    "    \n",
    "    itertuples_time = get_time(df, 'itertuples')\n",
    "    itertuples_times.append(itertuples_time)\n",
    "    \n",
    "    loc_time = get_time(df, 'loc')\n",
    "    loc_times.append(loc_time)\n",
    "    \n",
    "    at_time = get_time(df, 'at')\n",
    "    at_times.append(at_time)\n",
    "\n",
    "times['iterrows'] = iterrows_times\n",
    "times['itertuples'] = itertuples_times\n",
    "times['loc'] = loc_times\n",
    "times['at'] = at_times\n",
    "\n",
    "times"
   ]
  },
  {
   "cell_type": "code",
   "execution_count": 17,
   "id": "4664c468-8079-47a1-a4cf-a648ac4a00b8",
   "metadata": {},
   "outputs": [
    {
     "data": {
      "image/png": "[encoded data removed]",
      "text/plain": [
       "<Figure size 640x480 with 1 Axes>"
      ]
     },
     "metadata": {},
     "output_type": "display_data"
    }
   ],
   "source": [
    "#Q10\n",
    "plt.figure()\n",
    "plt.plot([1000, 2000, 3000, 4000, 5000, 6000], times['iterrows'], label = 'iterrows')\n",
    "plt.plot([1000, 2000, 3000, 4000, 5000, 6000], times['itertuples'], label = 'itertuples', color = 'darkorange')\n",
    "plt.xlabel('Number of Rows')\n",
    "plt.ylabel('Miliseconds')\n",
    "plt.title('Benchmarking: iterrows vs. itertuples')\n",
    "plt.legend()\n",
    "plt.show()"
   ]
  },
  {
   "cell_type": "code",
   "execution_count": 18,
   "id": "795553c6-2153-46b8-948e-cb628234393a",
   "metadata": {},
   "outputs": [
    {
     "data": {
      "image/png": "[encoded data removed]",
      "text/plain": [
       "<Figure size 640x480 with 1 Axes>"
      ]
     },
     "metadata": {},
     "output_type": "display_data"
    }
   ],
   "source": [
    "#Q11\n",
    "plt.figure()\n",
    "plt.plot([1000, 2000, 3000, 4000, 5000, 6000], times['loc'], label = '.loc')\n",
    "plt.plot([1000, 2000, 3000, 4000, 5000, 6000], times['at'], label = '.at', color = 'darkorange')\n",
    "plt.xlabel('Number of Rows')\n",
    "plt.ylabel('Miliseconds')\n",
    "plt.title('Benchmarking: .loc vs. .at')\n",
    "plt.legend()\n",
    "plt.show()"
   ]
  },
  {
   "cell_type": "code",
   "execution_count": 19,
   "id": "146af988-5e75-496b-9548-b05d934afc74",
   "metadata": {},
   "outputs": [],
   "source": [
    "def laugh(x):\n",
    "    return \"qwerty\" * x"
   ]
  },
  {
   "cell_type": "code",
   "execution_count": 20,
   "id": "9d1e42e5-a780-4009-b81d-253303040784",
   "metadata": {},
   "outputs": [],
   "source": [
    "df_sizes = [2500, 5000, 7500, 10000, 12500 ,15000, 17500, 20000]\n",
    "\n",
    "loop_times = []\n",
    "apply_times = []\n",
    "\n",
    "for size in df_sizes:\n",
    "    df = rand_df(size)\n",
    "\n",
    "    t0 = time.time()\n",
    "    result = df[\"A\"].apply(laugh).tolist()\n",
    "    t1 = time.time()\n",
    "    apply_times.append((t1 - t0) * 1000)\n",
    "    \n",
    "    t0 = time.time()\n",
    "    result = []\n",
    "    for val in df[\"A\"]:\n",
    "        result.append(laugh(val))\n",
    "    t1 = time.time()\n",
    "    loop_times.append((t1 - t0) * 1000)"
   ]
  },
  {
   "cell_type": "code",
   "execution_count": 21,
   "id": "75918677-b342-40fd-aecc-574d1125c3a0",
   "metadata": {},
   "outputs": [
    {
     "data": {
      "image/png": "[encoded data removed]",
      "text/plain": [
       "<Figure size 640x480 with 1 Axes>"
      ]
     },
     "metadata": {},
     "output_type": "display_data"
    }
   ],
   "source": [
    "#Q12\n",
    "plt.figure()\n",
    "plt.plot(df_sizes, apply_times, label='apply')\n",
    "plt.plot(df_sizes, loop_times, label='loop', color='darkorange')\n",
    "plt.xlabel('Number of Rows')\n",
    "plt.ylabel('Milliseconds')\n",
    "plt.title('Benchmarking: apply vs. loop')\n",
    "plt.legend()\n",
    "plt.show()"
   ]
  },
  {
   "cell_type": "code",
   "execution_count": null,
   "id": "673481ac-6c9f-414a-884a-0aaedbb0225b",
   "metadata": {},
   "outputs": [],
   "source": []
  }
 ],
 "metadata": {
  "kernelspec": {
   "display_name": "Python 3 (ipykernel)",
   "language": "python",
   "name": "python3"
  },
  "language_info": {
   "codemirror_mode": {
    "name": "ipython",
    "version": 3
   },
   "file_extension": ".py",
   "mimetype": "text/x-python",
   "name": "python",
   "nbconvert_exporter": "python",
   "pygments_lexer": "ipython3",
   "version": "3.10.12"
  }
 },
 "nbformat": 4,
 "nbformat_minor": 5
}
